{
 "cells": [
  {
   "cell_type": "markdown",
   "id": "c113f396",
   "metadata": {},
   "source": [
    "# Machine Learning Coursework 2"
   ]
  },
  {
   "cell_type": "markdown",
   "id": "8426c004",
   "metadata": {},
   "source": [
    "## Web References\n",
    "\n",
    "- [The Iris Dataset](https://scikit-learn.org/stable/auto_examples/datasets/plot_iris_dataset.html)\n",
    "- [sklearn.datasets.load_iris](https://scikit-learn.org/stable/modules/generated/sklearn.datasets.load_iris.html)\n",
    "- [Iris Species:100% Accuracy using Naive bayes](https://www.kaggle.com/vinayshaw/iris-species-100-accuracy-using-naive-bayes)\n",
    "- [Naive Bayes Classifier with Scikit](https://python-course.eu/machine-learning/naive-bayes-classifier-with-scikit.php)\n",
    "- [scikit-learn Classifiers on Iris Dataset](https://www.kaggle.com/chungyehwang/scikit-learn-classifiers-on-iris-dataset)\n",
    "- [Random Forest Feature Importance Computed in 3 Ways with Python](https://mljar.com/blog/feature-importance-in-random-forest/#:~:text=Random%20Forest%20Built-in%20Feature%20Importance&text=It%20is%20a%20set%20of,sets%20with%20similars%20responses%20within.)\n",
    "- [Accuracy, Precision, Recall & F1-Score – Python Examples](https://vitalflux.com/accuracy-precision-recall-f1-score-python-example/)"
   ]
  },
  {
   "cell_type": "markdown",
   "id": "f7a8d45f",
   "metadata": {},
   "source": [
    "## Import Libraries"
   ]
  },
  {
   "cell_type": "code",
   "execution_count": 1,
   "id": "1b356457",
   "metadata": {},
   "outputs": [],
   "source": [
    "import pandas as pd\n",
    "import random\n",
    "import matplotlib.pyplot as plt\n",
    "import seaborn as sns\n",
    "from sklearn.model_selection import train_test_split\n",
    "from sklearn.metrics import classification_report\n",
    "from sklearn.metrics import precision_score, recall_score, f1_score, accuracy_score\n",
    "from sklearn.metrics import precision_recall_fscore_support\n",
    "from sklearn.feature_selection import SelectFromModel\n",
    "from sklearn.naive_bayes import GaussianNB\n",
    "from sklearn.ensemble import RandomForestClassifier\n",
    "from sklearn.neighbors import KNeighborsClassifier"
   ]
  },
  {
   "cell_type": "code",
   "execution_count": 2,
   "id": "69bbe83a",
   "metadata": {},
   "outputs": [],
   "source": [
    "# set the randon seed to use for reproducibility\n",
    "random_state = 1337\n",
    "\n",
    "# the fraction of the data to use for testing\n",
    "test_frac = 0.5"
   ]
  },
  {
   "cell_type": "markdown",
   "id": "d83f1b29",
   "metadata": {},
   "source": [
    "## 1. Classifiers [7 marks total]"
   ]
  },
  {
   "cell_type": "code",
   "execution_count": 3,
   "id": "794c154e",
   "metadata": {},
   "outputs": [],
   "source": [
    "# import datasets\n",
    "from sklearn import datasets \n",
    "\n",
    "# load data\n",
    "iris = datasets.load_iris() # load data "
   ]
  },
  {
   "cell_type": "code",
   "execution_count": 4,
   "id": "94a34750",
   "metadata": {},
   "outputs": [],
   "source": [
    "# get the predictors and target\n",
    "X = iris.data\n",
    "y = iris.target"
   ]
  },
  {
   "cell_type": "code",
   "execution_count": 5,
   "id": "57159958",
   "metadata": {},
   "outputs": [
    {
     "name": "stdout",
     "output_type": "stream",
     "text": [
      "There are 75 samples in the training set and 75 samples in the test set\n"
     ]
    }
   ],
   "source": [
    "# split the dataset into training and test data\n",
    "X_train, X_test, y_train, y_test = train_test_split(\n",
    "    X, y,\n",
    "    test_size=test_frac, \n",
    "    stratify=y,\n",
    "    random_state=random_state)\n",
    "\n",
    "print('There are %d samples in the training set and %d samples in the test set' % (X_train.shape[0], X_test.shape[0]))"
   ]
  },
  {
   "cell_type": "markdown",
   "id": "31c2f282",
   "metadata": {},
   "source": [
    "### a) Baseline\n",
    "\n",
    "The Pycaret library is use in this section to establish a baseline for model performance."
   ]
  },
  {
   "cell_type": "markdown",
   "id": "5c5e680f",
   "metadata": {},
   "source": [
    "> ℹ️ This section is not core the answering the coursework questions."
   ]
  },
  {
   "cell_type": "code",
   "execution_count": 6,
   "id": "624f69e0",
   "metadata": {},
   "outputs": [],
   "source": [
    "# import the pycaret dependencies\n",
    "from pycaret.classification import *"
   ]
  },
  {
   "cell_type": "code",
   "execution_count": 7,
   "id": "944201eb",
   "metadata": {},
   "outputs": [],
   "source": [
    "# convert the training dataset to a dataframe\n",
    "df_train = pd.DataFrame(data=X_train, columns=iris.feature_names)\n",
    "df_train['target'] = pd.Series(y_train)\n",
    "\n",
    "# convert the test data to a dataframe\n",
    "df_test = pd.DataFrame(data=X_test, columns=iris.feature_names)\n",
    "df_test['target'] = pd.Series(y_test)"
   ]
  },
  {
   "cell_type": "code",
   "execution_count": 8,
   "id": "a4acb130",
   "metadata": {},
   "outputs": [],
   "source": [
    "# initialize the training environment and transformation pipeline\n",
    "classifier = setup(\n",
    "    data=df_train, \n",
    "    target='target',\n",
    "    session_id=random_state,\n",
    "    silent=True,\n",
    "    verbose=False)"
   ]
  },
  {
   "cell_type": "code",
   "execution_count": 9,
   "id": "c129a808",
   "metadata": {},
   "outputs": [
    {
     "data": {
      "text/html": [
       "<style type=\"text/css\">\n",
       "#T_613bd_ th {\n",
       "  text-align: left;\n",
       "}\n",
       "#T_613bd_row0_col0, #T_613bd_row0_col2, #T_613bd_row0_col7, #T_613bd_row1_col0, #T_613bd_row1_col1, #T_613bd_row1_col4, #T_613bd_row1_col5, #T_613bd_row1_col6, #T_613bd_row2_col0, #T_613bd_row2_col1, #T_613bd_row2_col3, #T_613bd_row2_col4, #T_613bd_row2_col5, #T_613bd_row2_col6, #T_613bd_row2_col7 {\n",
       "  text-align: left;\n",
       "}\n",
       "#T_613bd_row0_col1, #T_613bd_row0_col3, #T_613bd_row0_col4, #T_613bd_row0_col5, #T_613bd_row0_col6, #T_613bd_row1_col2, #T_613bd_row1_col3, #T_613bd_row1_col7, #T_613bd_row2_col2 {\n",
       "  text-align: left;\n",
       "  background-color: yellow;\n",
       "}\n",
       "#T_613bd_row0_col8, #T_613bd_row1_col8 {\n",
       "  text-align: left;\n",
       "  background-color: lightgrey;\n",
       "}\n",
       "#T_613bd_row2_col8 {\n",
       "  text-align: left;\n",
       "  background-color: yellow;\n",
       "  background-color: lightgrey;\n",
       "}\n",
       "</style>\n",
       "<table id=\"T_613bd_\">\n",
       "  <thead>\n",
       "    <tr>\n",
       "      <th class=\"blank level0\" >&nbsp;</th>\n",
       "      <th class=\"col_heading level0 col0\" >Model</th>\n",
       "      <th class=\"col_heading level0 col1\" >Accuracy</th>\n",
       "      <th class=\"col_heading level0 col2\" >AUC</th>\n",
       "      <th class=\"col_heading level0 col3\" >Recall</th>\n",
       "      <th class=\"col_heading level0 col4\" >Prec.</th>\n",
       "      <th class=\"col_heading level0 col5\" >F1</th>\n",
       "      <th class=\"col_heading level0 col6\" >Kappa</th>\n",
       "      <th class=\"col_heading level0 col7\" >MCC</th>\n",
       "      <th class=\"col_heading level0 col8\" >TT (Sec)</th>\n",
       "    </tr>\n",
       "  </thead>\n",
       "  <tbody>\n",
       "    <tr>\n",
       "      <th id=\"T_613bd_level0_row0\" class=\"row_heading level0 row0\" >nb</th>\n",
       "      <td id=\"T_613bd_row0_col0\" class=\"data row0 col0\" >Naive Bayes</td>\n",
       "      <td id=\"T_613bd_row0_col1\" class=\"data row0 col1\" >0.9467</td>\n",
       "      <td id=\"T_613bd_row0_col2\" class=\"data row0 col2\" >0.9917</td>\n",
       "      <td id=\"T_613bd_row0_col3\" class=\"data row0 col3\" >0.9500</td>\n",
       "      <td id=\"T_613bd_row0_col4\" class=\"data row0 col4\" >0.9678</td>\n",
       "      <td id=\"T_613bd_row0_col5\" class=\"data row0 col5\" >0.9444</td>\n",
       "      <td id=\"T_613bd_row0_col6\" class=\"data row0 col6\" >0.9206</td>\n",
       "      <td id=\"T_613bd_row0_col7\" class=\"data row0 col7\" >0.9317</td>\n",
       "      <td id=\"T_613bd_row0_col8\" class=\"data row0 col8\" >0.4230</td>\n",
       "    </tr>\n",
       "    <tr>\n",
       "      <th id=\"T_613bd_level0_row1\" class=\"row_heading level0 row1\" >rf</th>\n",
       "      <td id=\"T_613bd_row1_col0\" class=\"data row1 col0\" >Random Forest Classifier</td>\n",
       "      <td id=\"T_613bd_row1_col1\" class=\"data row1 col1\" >0.9433</td>\n",
       "      <td id=\"T_613bd_row1_col2\" class=\"data row1 col2\" >1.0000</td>\n",
       "      <td id=\"T_613bd_row1_col3\" class=\"data row1 col3\" >0.9500</td>\n",
       "      <td id=\"T_613bd_row1_col4\" class=\"data row1 col4\" >0.9356</td>\n",
       "      <td id=\"T_613bd_row1_col5\" class=\"data row1 col5\" >0.9322</td>\n",
       "      <td id=\"T_613bd_row1_col6\" class=\"data row1 col6\" >0.9194</td>\n",
       "      <td id=\"T_613bd_row1_col7\" class=\"data row1 col7\" >0.9361</td>\n",
       "      <td id=\"T_613bd_row1_col8\" class=\"data row1 col8\" >0.3400</td>\n",
       "    </tr>\n",
       "    <tr>\n",
       "      <th id=\"T_613bd_level0_row2\" class=\"row_heading level0 row2\" >knn</th>\n",
       "      <td id=\"T_613bd_row2_col0\" class=\"data row2 col0\" >K Neighbors Classifier</td>\n",
       "      <td id=\"T_613bd_row2_col1\" class=\"data row2 col1\" >0.9267</td>\n",
       "      <td id=\"T_613bd_row2_col2\" class=\"data row2 col2\" >1.0000</td>\n",
       "      <td id=\"T_613bd_row2_col3\" class=\"data row2 col3\" >0.9333</td>\n",
       "      <td id=\"T_613bd_row2_col4\" class=\"data row2 col4\" >0.9544</td>\n",
       "      <td id=\"T_613bd_row2_col5\" class=\"data row2 col5\" >0.9231</td>\n",
       "      <td id=\"T_613bd_row2_col6\" class=\"data row2 col6\" >0.8893</td>\n",
       "      <td id=\"T_613bd_row2_col7\" class=\"data row2 col7\" >0.9052</td>\n",
       "      <td id=\"T_613bd_row2_col8\" class=\"data row2 col8\" >0.0120</td>\n",
       "    </tr>\n",
       "  </tbody>\n",
       "</table>\n"
      ],
      "text/plain": [
       "<pandas.io.formats.style.Styler at 0x7ff8343d9f40>"
      ]
     },
     "metadata": {},
     "output_type": "display_data"
    }
   ],
   "source": [
    "# train a naive bayes, random forest, and knn classification model\n",
    "models = compare_models(include=['nb', 'rf', 'knn'], n_select=3)"
   ]
  },
  {
   "cell_type": "markdown",
   "id": "e14c7970",
   "metadata": {},
   "source": [
    "The following section optimizes each model by using a [random grid search](https://scikit-learn.org/stable/modules/generated/sklearn.model_selection.RandomizedSearchCV.html) from the scikit-learn library."
   ]
  },
  {
   "cell_type": "code",
   "execution_count": 10,
   "id": "4f1fbc24",
   "metadata": {},
   "outputs": [
    {
     "data": {
      "text/html": [
       "<style type=\"text/css\">\n",
       "#T_1426c_row10_col0, #T_1426c_row10_col1, #T_1426c_row10_col2, #T_1426c_row10_col3, #T_1426c_row10_col4, #T_1426c_row10_col5, #T_1426c_row10_col6 {\n",
       "  background: yellow;\n",
       "}\n",
       "</style>\n",
       "<table id=\"T_1426c_\">\n",
       "  <thead>\n",
       "    <tr>\n",
       "      <th class=\"blank level0\" >&nbsp;</th>\n",
       "      <th class=\"col_heading level0 col0\" >Accuracy</th>\n",
       "      <th class=\"col_heading level0 col1\" >AUC</th>\n",
       "      <th class=\"col_heading level0 col2\" >Recall</th>\n",
       "      <th class=\"col_heading level0 col3\" >Prec.</th>\n",
       "      <th class=\"col_heading level0 col4\" >F1</th>\n",
       "      <th class=\"col_heading level0 col5\" >Kappa</th>\n",
       "      <th class=\"col_heading level0 col6\" >MCC</th>\n",
       "    </tr>\n",
       "  </thead>\n",
       "  <tbody>\n",
       "    <tr>\n",
       "      <th id=\"T_1426c_level0_row0\" class=\"row_heading level0 row0\" >0</th>\n",
       "      <td id=\"T_1426c_row0_col0\" class=\"data row0 col0\" >0.8333</td>\n",
       "      <td id=\"T_1426c_row0_col1\" class=\"data row0 col1\" >1.0000</td>\n",
       "      <td id=\"T_1426c_row0_col2\" class=\"data row0 col2\" >0.8333</td>\n",
       "      <td id=\"T_1426c_row0_col3\" class=\"data row0 col3\" >0.8889</td>\n",
       "      <td id=\"T_1426c_row0_col4\" class=\"data row0 col4\" >0.8222</td>\n",
       "      <td id=\"T_1426c_row0_col5\" class=\"data row0 col5\" >0.7500</td>\n",
       "      <td id=\"T_1426c_row0_col6\" class=\"data row0 col6\" >0.7833</td>\n",
       "    </tr>\n",
       "    <tr>\n",
       "      <th id=\"T_1426c_level0_row1\" class=\"row_heading level0 row1\" >1</th>\n",
       "      <td id=\"T_1426c_row1_col0\" class=\"data row1 col0\" >0.8333</td>\n",
       "      <td id=\"T_1426c_row1_col1\" class=\"data row1 col1\" >1.0000</td>\n",
       "      <td id=\"T_1426c_row1_col2\" class=\"data row1 col2\" >0.8333</td>\n",
       "      <td id=\"T_1426c_row1_col3\" class=\"data row1 col3\" >0.8889</td>\n",
       "      <td id=\"T_1426c_row1_col4\" class=\"data row1 col4\" >0.8222</td>\n",
       "      <td id=\"T_1426c_row1_col5\" class=\"data row1 col5\" >0.7500</td>\n",
       "      <td id=\"T_1426c_row1_col6\" class=\"data row1 col6\" >0.7833</td>\n",
       "    </tr>\n",
       "    <tr>\n",
       "      <th id=\"T_1426c_level0_row2\" class=\"row_heading level0 row2\" >2</th>\n",
       "      <td id=\"T_1426c_row2_col0\" class=\"data row2 col0\" >1.0000</td>\n",
       "      <td id=\"T_1426c_row2_col1\" class=\"data row2 col1\" >1.0000</td>\n",
       "      <td id=\"T_1426c_row2_col2\" class=\"data row2 col2\" >1.0000</td>\n",
       "      <td id=\"T_1426c_row2_col3\" class=\"data row2 col3\" >1.0000</td>\n",
       "      <td id=\"T_1426c_row2_col4\" class=\"data row2 col4\" >1.0000</td>\n",
       "      <td id=\"T_1426c_row2_col5\" class=\"data row2 col5\" >1.0000</td>\n",
       "      <td id=\"T_1426c_row2_col6\" class=\"data row2 col6\" >1.0000</td>\n",
       "    </tr>\n",
       "    <tr>\n",
       "      <th id=\"T_1426c_level0_row3\" class=\"row_heading level0 row3\" >3</th>\n",
       "      <td id=\"T_1426c_row3_col0\" class=\"data row3 col0\" >0.8000</td>\n",
       "      <td id=\"T_1426c_row3_col1\" class=\"data row3 col1\" >1.0000</td>\n",
       "      <td id=\"T_1426c_row3_col2\" class=\"data row3 col2\" >0.8333</td>\n",
       "      <td id=\"T_1426c_row3_col3\" class=\"data row3 col3\" >0.8667</td>\n",
       "      <td id=\"T_1426c_row3_col4\" class=\"data row3 col4\" >0.7867</td>\n",
       "      <td id=\"T_1426c_row3_col5\" class=\"data row3 col5\" >0.6875</td>\n",
       "      <td id=\"T_1426c_row3_col6\" class=\"data row3 col6\" >0.7350</td>\n",
       "    </tr>\n",
       "    <tr>\n",
       "      <th id=\"T_1426c_level0_row4\" class=\"row_heading level0 row4\" >4</th>\n",
       "      <td id=\"T_1426c_row4_col0\" class=\"data row4 col0\" >1.0000</td>\n",
       "      <td id=\"T_1426c_row4_col1\" class=\"data row4 col1\" >1.0000</td>\n",
       "      <td id=\"T_1426c_row4_col2\" class=\"data row4 col2\" >1.0000</td>\n",
       "      <td id=\"T_1426c_row4_col3\" class=\"data row4 col3\" >1.0000</td>\n",
       "      <td id=\"T_1426c_row4_col4\" class=\"data row4 col4\" >1.0000</td>\n",
       "      <td id=\"T_1426c_row4_col5\" class=\"data row4 col5\" >1.0000</td>\n",
       "      <td id=\"T_1426c_row4_col6\" class=\"data row4 col6\" >1.0000</td>\n",
       "    </tr>\n",
       "    <tr>\n",
       "      <th id=\"T_1426c_level0_row5\" class=\"row_heading level0 row5\" >5</th>\n",
       "      <td id=\"T_1426c_row5_col0\" class=\"data row5 col0\" >1.0000</td>\n",
       "      <td id=\"T_1426c_row5_col1\" class=\"data row5 col1\" >1.0000</td>\n",
       "      <td id=\"T_1426c_row5_col2\" class=\"data row5 col2\" >1.0000</td>\n",
       "      <td id=\"T_1426c_row5_col3\" class=\"data row5 col3\" >1.0000</td>\n",
       "      <td id=\"T_1426c_row5_col4\" class=\"data row5 col4\" >1.0000</td>\n",
       "      <td id=\"T_1426c_row5_col5\" class=\"data row5 col5\" >1.0000</td>\n",
       "      <td id=\"T_1426c_row5_col6\" class=\"data row5 col6\" >1.0000</td>\n",
       "    </tr>\n",
       "    <tr>\n",
       "      <th id=\"T_1426c_level0_row6\" class=\"row_heading level0 row6\" >6</th>\n",
       "      <td id=\"T_1426c_row6_col0\" class=\"data row6 col0\" >1.0000</td>\n",
       "      <td id=\"T_1426c_row6_col1\" class=\"data row6 col1\" >1.0000</td>\n",
       "      <td id=\"T_1426c_row6_col2\" class=\"data row6 col2\" >1.0000</td>\n",
       "      <td id=\"T_1426c_row6_col3\" class=\"data row6 col3\" >1.0000</td>\n",
       "      <td id=\"T_1426c_row6_col4\" class=\"data row6 col4\" >1.0000</td>\n",
       "      <td id=\"T_1426c_row6_col5\" class=\"data row6 col5\" >1.0000</td>\n",
       "      <td id=\"T_1426c_row6_col6\" class=\"data row6 col6\" >1.0000</td>\n",
       "    </tr>\n",
       "    <tr>\n",
       "      <th id=\"T_1426c_level0_row7\" class=\"row_heading level0 row7\" >7</th>\n",
       "      <td id=\"T_1426c_row7_col0\" class=\"data row7 col0\" >1.0000</td>\n",
       "      <td id=\"T_1426c_row7_col1\" class=\"data row7 col1\" >1.0000</td>\n",
       "      <td id=\"T_1426c_row7_col2\" class=\"data row7 col2\" >1.0000</td>\n",
       "      <td id=\"T_1426c_row7_col3\" class=\"data row7 col3\" >1.0000</td>\n",
       "      <td id=\"T_1426c_row7_col4\" class=\"data row7 col4\" >1.0000</td>\n",
       "      <td id=\"T_1426c_row7_col5\" class=\"data row7 col5\" >1.0000</td>\n",
       "      <td id=\"T_1426c_row7_col6\" class=\"data row7 col6\" >1.0000</td>\n",
       "    </tr>\n",
       "    <tr>\n",
       "      <th id=\"T_1426c_level0_row8\" class=\"row_heading level0 row8\" >8</th>\n",
       "      <td id=\"T_1426c_row8_col0\" class=\"data row8 col0\" >1.0000</td>\n",
       "      <td id=\"T_1426c_row8_col1\" class=\"data row8 col1\" >1.0000</td>\n",
       "      <td id=\"T_1426c_row8_col2\" class=\"data row8 col2\" >1.0000</td>\n",
       "      <td id=\"T_1426c_row8_col3\" class=\"data row8 col3\" >1.0000</td>\n",
       "      <td id=\"T_1426c_row8_col4\" class=\"data row8 col4\" >1.0000</td>\n",
       "      <td id=\"T_1426c_row8_col5\" class=\"data row8 col5\" >1.0000</td>\n",
       "      <td id=\"T_1426c_row8_col6\" class=\"data row8 col6\" >1.0000</td>\n",
       "    </tr>\n",
       "    <tr>\n",
       "      <th id=\"T_1426c_level0_row9\" class=\"row_heading level0 row9\" >9</th>\n",
       "      <td id=\"T_1426c_row9_col0\" class=\"data row9 col0\" >1.0000</td>\n",
       "      <td id=\"T_1426c_row9_col1\" class=\"data row9 col1\" >1.0000</td>\n",
       "      <td id=\"T_1426c_row9_col2\" class=\"data row9 col2\" >1.0000</td>\n",
       "      <td id=\"T_1426c_row9_col3\" class=\"data row9 col3\" >1.0000</td>\n",
       "      <td id=\"T_1426c_row9_col4\" class=\"data row9 col4\" >1.0000</td>\n",
       "      <td id=\"T_1426c_row9_col5\" class=\"data row9 col5\" >1.0000</td>\n",
       "      <td id=\"T_1426c_row9_col6\" class=\"data row9 col6\" >1.0000</td>\n",
       "    </tr>\n",
       "    <tr>\n",
       "      <th id=\"T_1426c_level0_row10\" class=\"row_heading level0 row10\" >Mean</th>\n",
       "      <td id=\"T_1426c_row10_col0\" class=\"data row10 col0\" >0.9467</td>\n",
       "      <td id=\"T_1426c_row10_col1\" class=\"data row10 col1\" >1.0000</td>\n",
       "      <td id=\"T_1426c_row10_col2\" class=\"data row10 col2\" >0.9500</td>\n",
       "      <td id=\"T_1426c_row10_col3\" class=\"data row10 col3\" >0.9644</td>\n",
       "      <td id=\"T_1426c_row10_col4\" class=\"data row10 col4\" >0.9431</td>\n",
       "      <td id=\"T_1426c_row10_col5\" class=\"data row10 col5\" >0.9188</td>\n",
       "      <td id=\"T_1426c_row10_col6\" class=\"data row10 col6\" >0.9302</td>\n",
       "    </tr>\n",
       "    <tr>\n",
       "      <th id=\"T_1426c_level0_row11\" class=\"row_heading level0 row11\" >SD</th>\n",
       "      <td id=\"T_1426c_row11_col0\" class=\"data row11 col0\" >0.0819</td>\n",
       "      <td id=\"T_1426c_row11_col1\" class=\"data row11 col1\" >0.0000</td>\n",
       "      <td id=\"T_1426c_row11_col2\" class=\"data row11 col2\" >0.0764</td>\n",
       "      <td id=\"T_1426c_row11_col3\" class=\"data row11 col3\" >0.0546</td>\n",
       "      <td id=\"T_1426c_row11_col4\" class=\"data row11 col4\" >0.0874</td>\n",
       "      <td id=\"T_1426c_row11_col5\" class=\"data row11 col5\" >0.1252</td>\n",
       "      <td id=\"T_1426c_row11_col6\" class=\"data row11 col6\" >0.1074</td>\n",
       "    </tr>\n",
       "  </tbody>\n",
       "</table>\n"
      ],
      "text/plain": [
       "<pandas.io.formats.style.Styler at 0x7ff753b2a7c0>"
      ]
     },
     "metadata": {},
     "output_type": "display_data"
    },
    {
     "name": "stdout",
     "output_type": "stream",
     "text": [
      "GaussianNB(priors=None, var_smoothing=1e-09)\n",
      "RandomForestClassifier(bootstrap=True, ccp_alpha=0.0, class_weight=None,\n",
      "                       criterion='gini', max_depth=None, max_features='auto',\n",
      "                       max_leaf_nodes=None, max_samples=None,\n",
      "                       min_impurity_decrease=0.0, min_impurity_split=None,\n",
      "                       min_samples_leaf=1, min_samples_split=2,\n",
      "                       min_weight_fraction_leaf=0.0, n_estimators=100,\n",
      "                       n_jobs=-1, oob_score=False, random_state=1337, verbose=0,\n",
      "                       warm_start=False)\n",
      "KNeighborsClassifier(algorithm='auto', leaf_size=30, metric='minkowski',\n",
      "                     metric_params=None, n_jobs=-1, n_neighbors=5, p=2,\n",
      "                     weights='uniform')\n"
     ]
    }
   ],
   "source": [
    "# find the best hyperparameters for each model\n",
    "tuned_models = [tune_model(model,search_library='scikit-learn', search_algorithm='random') for model in models]\n",
    "\n",
    "# display the model parameters\n",
    "for model in models:\n",
    "    print(model)"
   ]
  },
  {
   "cell_type": "code",
   "execution_count": 11,
   "id": "ba374333",
   "metadata": {},
   "outputs": [
    {
     "name": "stderr",
     "output_type": "stream",
     "text": [
      "findfont: Font family ['sans-serif'] not found. Falling back to DejaVu Sans.\n",
      "findfont: Generic family 'sans-serif' not found because none of the following families were found: Arial, Liberation Sans, Bitstream Vera Sans, sans-serif\n",
      "findfont: Font family ['sans-serif'] not found. Falling back to DejaVu Sans.\n",
      "findfont: Generic family 'sans-serif' not found because none of the following families were found: Arial, Liberation Sans, Bitstream Vera Sans, sans-serif\n",
      "findfont: Font family ['sans-serif'] not found. Falling back to DejaVu Sans.\n",
      "findfont: Generic family 'sans-serif' not found because none of the following families were found: Arial, Liberation Sans, Bitstream Vera Sans, sans-serif\n"
     ]
    },
    {
     "data": {
      "image/png": "[encoded data removed]",
      "text/plain": [
       "<Figure size 800x500 with 1 Axes>"
      ]
     },
     "metadata": {},
     "output_type": "display_data"
    }
   ],
   "source": [
    "# show the feature importance of the random forest model\n",
    "for model in models:\n",
    "    if type(model).__name__ == 'RandomForestClassifier':\n",
    "        plot_model(model, plot='feature')"
   ]
  },
  {
   "cell_type": "code",
   "execution_count": 12,
   "id": "f1840b15",
   "metadata": {},
   "outputs": [
    {
     "name": "stdout",
     "output_type": "stream",
     "text": [
      "--- <class 'sklearn.naive_bayes.GaussianNB'> ---\n",
      "              precision    recall  f1-score   support\n",
      "\n",
      "      setosa       1.00      1.00      1.00        25\n",
      "  versicolor       0.89      1.00      0.94        25\n",
      "   virginica       1.00      0.88      0.94        25\n",
      "\n",
      "    accuracy                           0.96        75\n",
      "   macro avg       0.96      0.96      0.96        75\n",
      "weighted avg       0.96      0.96      0.96        75\n",
      "\n",
      "--- <class 'sklearn.ensemble._forest.RandomForestClassifier'> ---\n",
      "              precision    recall  f1-score   support\n",
      "\n",
      "      setosa       1.00      1.00      1.00        25\n",
      "  versicolor       0.86      1.00      0.93        25\n",
      "   virginica       1.00      0.84      0.91        25\n",
      "\n",
      "    accuracy                           0.95        75\n",
      "   macro avg       0.95      0.95      0.95        75\n",
      "weighted avg       0.95      0.95      0.95        75\n",
      "\n",
      "--- <class 'sklearn.neighbors._classification.KNeighborsClassifier'> ---\n",
      "              precision    recall  f1-score   support\n",
      "\n",
      "      setosa       1.00      1.00      1.00        25\n",
      "  versicolor       0.78      1.00      0.88        25\n",
      "   virginica       1.00      0.72      0.84        25\n",
      "\n",
      "    accuracy                           0.91        75\n",
      "   macro avg       0.93      0.91      0.90        75\n",
      "weighted avg       0.93      0.91      0.90        75\n",
      "\n"
     ]
    }
   ],
   "source": [
    "# evaluate each model on the test data\n",
    "for model in tuned_models:\n",
    "    print('--- %s ---' % type(model))\n",
    "\n",
    "    df_predicted = predict_model(estimator=model, data=df_test)\n",
    "    print(classification_report(y_true=df_predicted.target, y_pred=df_predicted.Label, target_names=iris.target_names))"
   ]
  },
  {
   "cell_type": "markdown",
   "id": "74907908",
   "metadata": {},
   "source": [
    "### b) Modeling Functions\n",
    "\n",
    "This section contains re-usable functions to reduce the amount of repeated code."
   ]
  },
  {
   "cell_type": "code",
   "execution_count": 13,
   "id": "012c1910",
   "metadata": {},
   "outputs": [],
   "source": [
    "class Modeler:\n",
    "    \"\"\"\n",
    "    Modeler class to train and evaluate models.\n",
    "    \"\"\"\n",
    "    def __init__(self, model, X_train, y_train, X_test, y_test, feature_names, target_names):\n",
    "        \"\"\"\n",
    "        Initialize the modeler.\n",
    "\n",
    "        Parameters\n",
    "        ----------\n",
    "        model : sklearn model\n",
    "            The model to train and evaluate.\n",
    "        X_train : numpy array\n",
    "            The training data.\n",
    "        y_train : numpy array\n",
    "            The training labels.\n",
    "        X_test : numpy array\n",
    "            The test data.\n",
    "        y_test : numpy array\n",
    "            The test labels.\n",
    "        feature_names : list\n",
    "            The feature names.\n",
    "        target_names : list\n",
    "            The target names.\n",
    "        \"\"\"\n",
    "        self.model = model\n",
    "        self.X_train = X_train\n",
    "        self.y_train = y_train\n",
    "        self.X_test = X_test\n",
    "        self.y_test = y_test\n",
    "        self.feature_names = feature_names\n",
    "        self.target_names = target_names\n",
    "\n",
    "    def train(self):\n",
    "        \"\"\"\n",
    "        Train the model\n",
    "        \"\"\"\n",
    "        self.model.fit(self.X_train, self.y_train)\n",
    "\n",
    "    def evaluate(self):\n",
    "        \"\"\"\n",
    "        Evaluate the model\n",
    "        \"\"\"\n",
    "        y_predicted = self.model.predict(self.X_test)\n",
    "        print(classification_report(y_true=self.y_test, y_pred=y_predicted, target_names=self.target_names))\n",
    "\n",
    "    def get_feature_importance(self) -> pd.DataFrame:\n",
    "        \"\"\"\n",
    "        Get the feature importance of the model.\n",
    "\n",
    "        Returns\n",
    "        -------\n",
    "        pd.DataFrame\n",
    "            The feature importance of the model.\n",
    "        \"\"\"\n",
    "        if type(self.model).__name__ == 'RandomForestClassifier':\n",
    "            return pd.DataFrame({\n",
    "                'feature': self.feature_names,\n",
    "                'importance': self.model.feature_importances_\n",
    "            })\n",
    "        else:\n",
    "            print('Model does not support feature importance.')\n",
    "\n",
    "    def get_evaluation(self) -> pd.DataFrame:\n",
    "        \"\"\"\n",
    "        Get the evaluation of the model on the test dataset.\n",
    "\n",
    "        Returns\n",
    "        -------\n",
    "        pd.DataFrame\n",
    "            The evaluation of the model on the test dataset.\n",
    "        \"\"\"\n",
    "        y_predicted = self.model.predict(self.X_test)\n",
    "        return pd.DataFrame([{\n",
    "            'model': type(self.model).__name__,\n",
    "            'precision': precision_score(y_true=self.y_test, y_pred=y_predicted, average='weighted'),\n",
    "            'recall': recall_score(y_true=self.y_test, y_pred=y_predicted, average='weighted'),\n",
    "            'f1-score': f1_score(y_true=self.y_test, y_pred=y_predicted, average='weighted'),\n",
    "            'accuracy': accuracy_score(y_true=self.y_test, y_pred=y_predicted)\n",
    "        }])\n",
    "\n",
    "    def get_accuracy(self) -> float:\n",
    "        \"\"\"\n",
    "        Get the accuracy of the trained model on the test dataset.\n",
    "\n",
    "        Returns\n",
    "        -------\n",
    "        float\n",
    "            The accuracy of the model.\n",
    "        \"\"\"\n",
    "        return accuracy_score(y_true=self.y_test, y_pred=self.model.predict(self.X_test))"
   ]
  },
  {
   "cell_type": "markdown",
   "id": "08d097b4",
   "metadata": {},
   "source": [
    "### 1.1 Naïve Bayes Classifier [2]"
   ]
  },
  {
   "cell_type": "markdown",
   "id": "ef1464fc",
   "metadata": {},
   "source": [
    "#### 1.1.1 Train the Naive Bayes Classifier"
   ]
  },
  {
   "cell_type": "code",
   "execution_count": 14,
   "id": "64a4a918",
   "metadata": {},
   "outputs": [],
   "source": [
    "# create a new modeler\n",
    "modeler_nb = Modeler(\n",
    "    model=GaussianNB(), \n",
    "    X_train=X_train, \n",
    "    y_train=y_train, \n",
    "    X_test=X_test, \n",
    "    y_test=y_test,\n",
    "    feature_names=iris.feature_names,\n",
    "    target_names=iris.target_names)\n",
    "\n",
    "# train the model\n",
    "modeler_nb.train()"
   ]
  },
  {
   "cell_type": "code",
   "execution_count": 15,
   "metadata": {},
   "outputs": [
    {
     "name": "stdout",
     "output_type": "stream",
     "text": [
      "              precision    recall  f1-score   support\n",
      "\n",
      "      setosa       1.00      1.00      1.00        25\n",
      "  versicolor       0.89      1.00      0.94        25\n",
      "   virginica       1.00      0.88      0.94        25\n",
      "\n",
      "    accuracy                           0.96        75\n",
      "   macro avg       0.96      0.96      0.96        75\n",
      "weighted avg       0.96      0.96      0.96        75\n",
      "\n"
     ]
    }
   ],
   "source": [
    "# evaluation the model on the test set\n",
    "modeler_nb.evaluate()"
   ]
  },
  {
   "cell_type": "markdown",
   "id": "12049a11",
   "metadata": {},
   "source": [
    "### 1.2 Random Forst Classifier [3]\n"
   ]
  },
  {
   "cell_type": "markdown",
   "id": "bfe382e0",
   "metadata": {},
   "source": [
    "#### 1.2.1 Train a random forest classifier "
   ]
  },
  {
   "cell_type": "code",
   "execution_count": 16,
   "id": "87397a41",
   "metadata": {},
   "outputs": [],
   "source": [
    "# create a new modeler\n",
    "modeler_rf = Modeler(\n",
    "    model=RandomForestClassifier(\n",
    "        n_jobs=-1,\n",
    "        random_state=random_state\n",
    "    ), \n",
    "    X_train=X_train, \n",
    "    y_train=y_train, \n",
    "    X_test=X_test, \n",
    "    y_test=y_test,\n",
    "    feature_names=iris.feature_names,\n",
    "    target_names=iris.target_names)\n",
    "\n",
    "# train the model\n",
    "modeler_rf.train()"
   ]
  },
  {
   "cell_type": "code",
   "execution_count": 17,
   "id": "d948fb9e",
   "metadata": {},
   "outputs": [
    {
     "name": "stdout",
     "output_type": "stream",
     "text": [
      "              precision    recall  f1-score   support\n",
      "\n",
      "      setosa       1.00      1.00      1.00        25\n",
      "  versicolor       0.89      1.00      0.94        25\n",
      "   virginica       1.00      0.88      0.94        25\n",
      "\n",
      "    accuracy                           0.96        75\n",
      "   macro avg       0.96      0.96      0.96        75\n",
      "weighted avg       0.96      0.96      0.96        75\n",
      "\n"
     ]
    }
   ],
   "source": [
    "# evaluation the model on the test set\n",
    "modeler_rf.evaluate()"
   ]
  },
  {
   "cell_type": "markdown",
   "id": "7721c5de",
   "metadata": {},
   "source": [
    "#### 1.2.2 Evaluate feature performance\n",
    "\n",
    "The table below shows that the `sepal length (cm)` and `sepal width (cm)` features have very low importance in the model. Therefore, we can assume that removing these features will have a minimal impact on the model."
   ]
  },
  {
   "cell_type": "code",
   "execution_count": 18,
   "id": "aa028a17",
   "metadata": {},
   "outputs": [
    {
     "data": {
      "text/html": [
       "<div>\n",
       "<style scoped>\n",
       "    .dataframe tbody tr th:only-of-type {\n",
       "        vertical-align: middle;\n",
       "    }\n",
       "\n",
       "    .dataframe tbody tr th {\n",
       "        vertical-align: top;\n",
       "    }\n",
       "\n",
       "    .dataframe thead th {\n",
       "        text-align: right;\n",
       "    }\n",
       "</style>\n",
       "<table border=\"1\" class=\"dataframe\">\n",
       "  <thead>\n",
       "    <tr style=\"text-align: right;\">\n",
       "      <th></th>\n",
       "      <th>feature</th>\n",
       "      <th>importance</th>\n",
       "    </tr>\n",
       "  </thead>\n",
       "  <tbody>\n",
       "    <tr>\n",
       "      <th>3</th>\n",
       "      <td>petal width (cm)</td>\n",
       "      <td>0.458948</td>\n",
       "    </tr>\n",
       "    <tr>\n",
       "      <th>2</th>\n",
       "      <td>petal length (cm)</td>\n",
       "      <td>0.403974</td>\n",
       "    </tr>\n",
       "    <tr>\n",
       "      <th>0</th>\n",
       "      <td>sepal length (cm)</td>\n",
       "      <td>0.094816</td>\n",
       "    </tr>\n",
       "    <tr>\n",
       "      <th>1</th>\n",
       "      <td>sepal width (cm)</td>\n",
       "      <td>0.042261</td>\n",
       "    </tr>\n",
       "  </tbody>\n",
       "</table>\n",
       "</div>"
      ],
      "text/plain": [
       "             feature  importance\n",
       "3   petal width (cm)    0.458948\n",
       "2  petal length (cm)    0.403974\n",
       "0  sepal length (cm)    0.094816\n",
       "1   sepal width (cm)    0.042261"
      ]
     },
     "execution_count": 18,
     "metadata": {},
     "output_type": "execute_result"
    }
   ],
   "source": [
    "# show the importance of each feature\n",
    "df_feature_importance = modeler_rf.get_feature_importance().sort_values(by='importance', ascending=False)\n",
    "df_feature_importance"
   ]
  },
  {
   "cell_type": "markdown",
   "id": "f77ecf32",
   "metadata": {},
   "source": [
    "Training a new model with the least important features removed creates a model with identical performance.\n",
    "\n",
    "❗️ However, in datasets as small as the iris dataset, the test/train split and random seed can significantly impact the results, so we cannot conclude that model performance will always be precisely the same."
   ]
  },
  {
   "cell_type": "code",
   "execution_count": 19,
   "id": "f4dea2f1",
   "metadata": {},
   "outputs": [],
   "source": [
    "def create_rf_modeler(X_train, y_train, X_test, y_test, selected_features:list, random_state:int) -> Modeler:\n",
    "    \"\"\"\n",
    "    Create a random forest modeler.\n",
    "\n",
    "    Parameters\n",
    "    ----------\n",
    "    X_train : numpy array\n",
    "        The training data.\n",
    "    y_train : numpy array\n",
    "        The training labels.\n",
    "    X_test : numpy array\n",
    "        The test data.\n",
    "    y_test : numpy array\n",
    "        The test labels.\n",
    "    selected_features : list\n",
    "        The selected features.\n",
    "    random_state : int\n",
    "        The random state.\n",
    "\n",
    "    Returns\n",
    "    -------\n",
    "    Modeler\n",
    "        The trained random forest modeler.\n",
    "    \"\"\"\n",
    "    # create a new modeler\n",
    "    modeler = Modeler(\n",
    "        model=RandomForestClassifier(\n",
    "            n_jobs=-1,\n",
    "            random_state=random_state\n",
    "        ), \n",
    "        X_train=X_train[:, selected_features], \n",
    "        y_train=y_train, \n",
    "        X_test=X_test[:, selected_features], \n",
    "        y_test=y_test,\n",
    "        feature_names=None,\n",
    "        target_names=iris.target_names)\n",
    "\n",
    "    # train the model\n",
    "    modeler.train()\n",
    "\n",
    "    return modeler"
   ]
  },
  {
   "cell_type": "code",
   "execution_count": 20,
   "id": "9a9c70f0",
   "metadata": {},
   "outputs": [
    {
     "name": "stdout",
     "output_type": "stream",
     "text": [
      "              precision    recall  f1-score   support\n",
      "\n",
      "      setosa       1.00      1.00      1.00        25\n",
      "  versicolor       0.89      1.00      0.94        25\n",
      "   virginica       1.00      0.88      0.94        25\n",
      "\n",
      "    accuracy                           0.96        75\n",
      "   macro avg       0.96      0.96      0.96        75\n",
      "weighted avg       0.96      0.96      0.96        75\n",
      "\n"
     ]
    }
   ],
   "source": [
    "# evalute model performance with only feature 2 and 3\n",
    "selected_features = [2, 3]\n",
    "modeler_rf_sel = create_rf_modeler(X_train, y_train, X_test, y_test, selected_features, random_state)\n",
    "\n",
    "# evaluation the model on the test set\n",
    "modeler_rf_sel.evaluate()"
   ]
  },
  {
   "cell_type": "markdown",
   "id": "aeffc70d",
   "metadata": {},
   "source": [
    "#### 1.2.3 Visualise the feature importance"
   ]
  },
  {
   "cell_type": "code",
   "execution_count": 21,
   "id": "4a1df26f",
   "metadata": {},
   "outputs": [
    {
     "data": {
      "text/plain": [
       "Text(0.5, 1.0, 'Figure 1. Feature Importance')"
      ]
     },
     "execution_count": 21,
     "metadata": {},
     "output_type": "execute_result"
    },
    {
     "data": {
      "image/png": "[encoded data removed]",
      "text/plain": [
       "<Figure size 576x396 with 1 Axes>"
      ]
     },
     "metadata": {},
     "output_type": "display_data"
    }
   ],
   "source": [
    "sns.barplot(\n",
    "    data=df_feature_importance,\n",
    "    x='feature',\n",
    "    y='importance').set_title('Figure 1. Feature Importance')"
   ]
  },
  {
   "cell_type": "markdown",
   "id": "be4cb46e",
   "metadata": {},
   "source": [
    "### 1.3 kNN Classifier [2]"
   ]
  },
  {
   "cell_type": "code",
   "execution_count": 22,
   "id": "ba99c00a",
   "metadata": {},
   "outputs": [],
   "source": [
    "# create a new modeler\n",
    "modeler_knn = Modeler(\n",
    "    model=KNeighborsClassifier(n_jobs=-1), \n",
    "    X_train=X_train, \n",
    "    y_train=y_train, \n",
    "    X_test=X_test, \n",
    "    y_test=y_test,\n",
    "    feature_names=iris.feature_names,\n",
    "    target_names=iris.target_names)\n",
    "\n",
    "# train the model\n",
    "modeler_knn.train()"
   ]
  },
  {
   "cell_type": "code",
   "execution_count": 23,
   "id": "f286edec",
   "metadata": {},
   "outputs": [
    {
     "name": "stdout",
     "output_type": "stream",
     "text": [
      "              precision    recall  f1-score   support\n",
      "\n",
      "      setosa       1.00      1.00      1.00        25\n",
      "  versicolor       0.93      1.00      0.96        25\n",
      "   virginica       1.00      0.92      0.96        25\n",
      "\n",
      "    accuracy                           0.97        75\n",
      "   macro avg       0.98      0.97      0.97        75\n",
      "weighted avg       0.98      0.97      0.97        75\n",
      "\n"
     ]
    }
   ],
   "source": [
    "# evaluation the model on the test set\n",
    "modeler_knn.evaluate()"
   ]
  },
  {
   "cell_type": "markdown",
   "id": "877298a3",
   "metadata": {},
   "source": [
    "## 2 Code Report [6 marks total]"
   ]
  },
  {
   "cell_type": "markdown",
   "id": "e1312991",
   "metadata": {},
   "source": [
    "The baseline section creates initial models with the  [PyCaret library](https://pycaret.org/) to understand if the approach is correct and the expected model performance baseline.\n",
    "\n",
    "In section 1. b, a `Modeler` class is implemented to allow consistency and reduce repeated code when evaluating model performance. Creating a new class instance requires a scikit-learn model configured with the appropriate hyperparameters and the training and test data.\n",
    "\n",
    "The class has the following methods:\n",
    "\n",
    "-\t` train` - Train the model by fitting the training data (`X_train` and `y_train`)\n",
    "-\t`evaluate` - This method use the trained model to predict labels for the test set (`X_test`), compare the output with the actual labels (`y_test`), and print a classification report for evaluation.\n",
    "-\t` get_feature_importance` - If the model is a ` RandomForestClassifier`, this function returns a data frame with the feature importance.\n",
    "-\t` get_evaluation` - This function is similar to `evaluate` but returns a data frame containing only the weighted average for the evaluation metrics.\n",
    "-\t` get_accuracy` - This function returns only the accuracy score for the predictions on the test set.\n",
    "\n",
    "Each classifier (Naïve Bayes, Random Forest, and k-NN) is trained and evaluated using the `Modeler` class.\n",
    "\n",
    "In further sections of the notebook, the following helper methods can are found:\n",
    "\n",
    "-\t` create_rf_modeler` - This function creates variations of the Random Forest for use in multiple experiments found in the notebook. One of the key input parameters is ` selected_features `, allowing model training to use only a subset of the features.\n",
    "-\t` backwards_elimination` - This function is specifically for experimentation with the Random Forest algorithm. The first step is to train n initial model with the entire feature set. Then the least important feature is iteratively removed until only a single feature remains. Finally, the results are returned a  data frame showing the feature removed at each set and the performance metrics of the resulting model.\n",
    "-\t` get_random_influence` - This function generates data to illustrate the influence of training the models on different datasets that results from only varying the random seed variable while keeping all other variables consistent.\n"
   ]
  },
  {
   "cell_type": "markdown",
   "id": "cd03db53",
   "metadata": {},
   "source": [
    "## 3 Model Questions [14 marks total]"
   ]
  },
  {
   "cell_type": "markdown",
   "id": "2c8eecce",
   "metadata": {},
   "source": [
    "### 3.1 Naïves Bayes Questions [4]"
   ]
  },
  {
   "cell_type": "markdown",
   "id": "c7d13115",
   "metadata": {},
   "source": [
    "#### 3.1.1 Why do zero probabilities in our Naïve Bayes model cause problems?\n",
    "\n",
    "If an instance in the dataset has no training tuple (class label and particular attribute value), the frequency-based probability estimate will be zero (Naïve Bayes Algorithm: Everything you need to know, 2020), and the model is unable to make predictions"
   ]
  },
  {
   "cell_type": "markdown",
   "id": "63bf0203",
   "metadata": {},
   "source": [
    "#### 3.1.2 How can we avoid the problem of zero probabilities in our Naïve Bayes model?\n",
    "\n",
    "Techniques such as `Laplace` or `Lidstone` smoothing can be used to account for features not present in the training samples to prevent the problem of zero probabilities (1.9. Naive Bayes — scikit-learn 1.0.2 documentation, 2022).\n",
    "\n",
    "For a simple illustration of how this might work: Add one to the frequency of every attribute value-class combination where the attribute value does not occur with every class value (Vashisht, 2020)."
   ]
  },
  {
   "cell_type": "markdown",
   "id": "be89f91b",
   "metadata": {},
   "source": [
    "### 3.2 Random Forest Questions [6]"
   ]
  },
  {
   "cell_type": "markdown",
   "id": "f158f6e1",
   "metadata": {},
   "source": [
    "#### 3.2.1 Which feature is the most important from your random forest classifier?\n",
    "\n",
    "Figure 1 (section 1.2.3) shows that `petal width (cm)` is the most important feature.\n",
    "\n",
    "However, the Iris dataset is so simple that a boxplot (shown below) of each feature already reveals that the `petal width (cm)` and `petal length (cm)` have the least amount of overlap between the classes and accordingly have the most predictive power."
   ]
  },
  {
   "cell_type": "code",
   "execution_count": 24,
   "id": "d15c3b62",
   "metadata": {},
   "outputs": [
    {
     "data": {
      "image/png": "[encoded data removed]",
      "text/plain": [
       "<Figure size 1080x720 with 4 Axes>"
      ]
     },
     "metadata": {},
     "output_type": "display_data"
    }
   ],
   "source": [
    "# load the dataset\n",
    "bunch = datasets.load_iris(as_frame=True)\n",
    "df_iris = bunch.data\n",
    "\n",
    "# map the target integers to names\n",
    "target_names = {}\n",
    "for i, name in enumerate(bunch.target_names):\n",
    "    target_names[i] = name\n",
    "\n",
    "# join the species name to the feature dataframe\n",
    "df_iris = df_iris.join(pd.Series(bunch.target.map(target_names), name='species'))\n",
    "\n",
    "plt.figure(figsize=(15,10))\n",
    "# create the plot\n",
    "for i, feature in enumerate(bunch.feature_names):\n",
    "   plt.subplot(2,2,i+1)\n",
    "   sns.boxplot(data=df_iris, x='species', y=feature)"
   ]
  },
  {
   "cell_type": "markdown",
   "id": "6d9d2549",
   "metadata": {},
   "source": [
    "#### 3.2.2 Can any features be removed to increase accuracy of the model, if so which features?\n",
    "\n",
    "In the experiment below, backward elimination by feature importance is used to iteratively remove a single feature and output the model metrics for each step for comparison (step 0 is the baseline using all the features). By examining this table, we can see that no feature can be removed to the model accuracy for the given random seed and training-test split used in this notebook. At best, we can remove the two `sepal` features to get the same accuracy as when using all features.\n",
    "\n",
    "In the second experiment, we see that if we are limited to the removal of only one feature, the best choice would be `sepal length (cm)`, which again produces a model with the same accuracy as using the complete feature set."
   ]
  },
  {
   "cell_type": "code",
   "execution_count": 25,
   "id": "1b964ba8",
   "metadata": {},
   "outputs": [
    {
     "data": {
      "text/html": [
       "<div>\n",
       "<style scoped>\n",
       "    .dataframe tbody tr th:only-of-type {\n",
       "        vertical-align: middle;\n",
       "    }\n",
       "\n",
       "    .dataframe tbody tr th {\n",
       "        vertical-align: top;\n",
       "    }\n",
       "\n",
       "    .dataframe thead th {\n",
       "        text-align: right;\n",
       "    }\n",
       "</style>\n",
       "<table border=\"1\" class=\"dataframe\">\n",
       "  <thead>\n",
       "    <tr style=\"text-align: right;\">\n",
       "      <th></th>\n",
       "      <th>eliminated</th>\n",
       "      <th>precision</th>\n",
       "      <th>recall</th>\n",
       "      <th>f1-score</th>\n",
       "      <th>accuracy</th>\n",
       "    </tr>\n",
       "  </thead>\n",
       "  <tbody>\n",
       "    <tr>\n",
       "      <th>0</th>\n",
       "      <td>None</td>\n",
       "      <td>0.964286</td>\n",
       "      <td>0.960000</td>\n",
       "      <td>0.959855</td>\n",
       "      <td>0.960000</td>\n",
       "    </tr>\n",
       "    <tr>\n",
       "      <th>1</th>\n",
       "      <td>sepal width (cm)</td>\n",
       "      <td>0.954023</td>\n",
       "      <td>0.946667</td>\n",
       "      <td>0.946323</td>\n",
       "      <td>0.946667</td>\n",
       "    </tr>\n",
       "    <tr>\n",
       "      <th>2</th>\n",
       "      <td>sepal length (cm)</td>\n",
       "      <td>0.964286</td>\n",
       "      <td>0.960000</td>\n",
       "      <td>0.959855</td>\n",
       "      <td>0.960000</td>\n",
       "    </tr>\n",
       "    <tr>\n",
       "      <th>3</th>\n",
       "      <td>petal length (cm)</td>\n",
       "      <td>0.954023</td>\n",
       "      <td>0.946667</td>\n",
       "      <td>0.946323</td>\n",
       "      <td>0.946667</td>\n",
       "    </tr>\n",
       "  </tbody>\n",
       "</table>\n",
       "</div>"
      ],
      "text/plain": [
       "          eliminated  precision    recall  f1-score  accuracy\n",
       "0               None   0.964286  0.960000  0.959855  0.960000\n",
       "1   sepal width (cm)   0.954023  0.946667  0.946323  0.946667\n",
       "2  sepal length (cm)   0.964286  0.960000  0.959855  0.960000\n",
       "3  petal length (cm)   0.954023  0.946667  0.946323  0.946667"
      ]
     },
     "execution_count": 25,
     "metadata": {},
     "output_type": "execute_result"
    }
   ],
   "source": [
    "def backward_elimination(X_train, y_train, X_test, y_test, random_state, feature_names=None, feature_dictionary=None, elimination_feature=None, results:pd.DataFrame = pd.DataFrame()) -> pd.DataFrame:\n",
    "    \"\"\"\n",
    "    Backwards elimination of features.\n",
    "\n",
    "    Parameters\n",
    "    ----------\n",
    "    X_train : numpy.ndarray\n",
    "        The training dataset.\n",
    "    y_train : numpy.ndarray\n",
    "        The target values of the training dataset.\n",
    "    X_test : numpy.ndarray\n",
    "        The test dataset.\n",
    "    y_test : numpy.ndarray\n",
    "        The target values of the test dataset.\n",
    "    random_state : int\n",
    "        The random state.\n",
    "    feature_names : list\n",
    "        The feature names.\n",
    "\n",
    "    Returns\n",
    "    -------\n",
    "    pd.DataFrame\n",
    "        The results of the backward elimination.\n",
    "    \"\"\"\n",
    "    # create the feature dictionary\n",
    "    if (feature_dictionary is None):\n",
    "        feature_dictionary = {}\n",
    "        for (i, feature_name) in enumerate(feature_names):\n",
    "            feature_dictionary[i] = feature_name\n",
    "\n",
    "    # get the selected features for training\n",
    "    selected_features = list(feature_dictionary.keys())\n",
    "\n",
    "    # create the trained random forest modeler\n",
    "    modeler = create_rf_modeler(X_train, y_train, X_test, y_test, selected_features, random_state)\n",
    "\n",
    "    # get the evaluation of the model on the test set   \n",
    "    df_evaluation = modeler.get_evaluation().iloc[: , 1:]\n",
    "    df_evaluation.insert(0, 'eliminated', elimination_feature)\n",
    "    results = results.append(df_evaluation, ignore_index=True)\n",
    "\n",
    "    # feature elimination stops when a single feature remains\n",
    "    if len(feature_dictionary) > 1:\n",
    "        # get the feature to remove\n",
    "        df_feature_importance = modeler.get_feature_importance().sort_values(by='importance', ascending=True)\n",
    "        elimination_feature_index = df_feature_importance.index[0]\n",
    "        elimination_feature = list(feature_dictionary.keys())[elimination_feature_index]\n",
    "\n",
    "        # get the name of the eliminated feature\n",
    "        elimination_feature_name = feature_dictionary[elimination_feature]\n",
    "\n",
    "        # remove the feature and perform the next iteration\n",
    "        del feature_dictionary[elimination_feature]\n",
    "        results = backward_elimination(X_train, y_train, X_test, y_test, random_state, feature_dictionary=feature_dictionary, elimination_feature=elimination_feature_name, results=results)\n",
    "        return results\n",
    "    else:\n",
    "        return results\n",
    "\n",
    "backward_elimination(X_train, y_train, X_test, y_test, random_state, feature_names=iris.feature_names)"
   ]
  },
  {
   "cell_type": "code",
   "execution_count": 26,
   "id": "66971377",
   "metadata": {},
   "outputs": [
    {
     "data": {
      "text/html": [
       "<div>\n",
       "<style scoped>\n",
       "    .dataframe tbody tr th:only-of-type {\n",
       "        vertical-align: middle;\n",
       "    }\n",
       "\n",
       "    .dataframe tbody tr th {\n",
       "        vertical-align: top;\n",
       "    }\n",
       "\n",
       "    .dataframe thead th {\n",
       "        text-align: right;\n",
       "    }\n",
       "</style>\n",
       "<table border=\"1\" class=\"dataframe\">\n",
       "  <thead>\n",
       "    <tr style=\"text-align: right;\">\n",
       "      <th></th>\n",
       "      <th>features</th>\n",
       "      <th>precision</th>\n",
       "      <th>recall</th>\n",
       "      <th>f1-score</th>\n",
       "      <th>accuracy</th>\n",
       "    </tr>\n",
       "  </thead>\n",
       "  <tbody>\n",
       "    <tr>\n",
       "      <th>0</th>\n",
       "      <td>[0, 1, 2, 3]</td>\n",
       "      <td>0.964286</td>\n",
       "      <td>0.960000</td>\n",
       "      <td>0.959855</td>\n",
       "      <td>0.960000</td>\n",
       "    </tr>\n",
       "    <tr>\n",
       "      <th>1</th>\n",
       "      <td>[1, 2, 3]</td>\n",
       "      <td>0.964286</td>\n",
       "      <td>0.960000</td>\n",
       "      <td>0.959855</td>\n",
       "      <td>0.960000</td>\n",
       "    </tr>\n",
       "    <tr>\n",
       "      <th>2</th>\n",
       "      <td>[0, 2, 3]</td>\n",
       "      <td>0.954023</td>\n",
       "      <td>0.946667</td>\n",
       "      <td>0.946323</td>\n",
       "      <td>0.946667</td>\n",
       "    </tr>\n",
       "    <tr>\n",
       "      <th>3</th>\n",
       "      <td>[0, 1, 3]</td>\n",
       "      <td>0.954023</td>\n",
       "      <td>0.946667</td>\n",
       "      <td>0.946323</td>\n",
       "      <td>0.946667</td>\n",
       "    </tr>\n",
       "    <tr>\n",
       "      <th>4</th>\n",
       "      <td>[0, 1, 2]</td>\n",
       "      <td>0.935484</td>\n",
       "      <td>0.920000</td>\n",
       "      <td>0.918831</td>\n",
       "      <td>0.920000</td>\n",
       "    </tr>\n",
       "  </tbody>\n",
       "</table>\n",
       "</div>"
      ],
      "text/plain": [
       "       features  precision    recall  f1-score  accuracy\n",
       "0  [0, 1, 2, 3]   0.964286  0.960000  0.959855  0.960000\n",
       "1     [1, 2, 3]   0.964286  0.960000  0.959855  0.960000\n",
       "2     [0, 2, 3]   0.954023  0.946667  0.946323  0.946667\n",
       "3     [0, 1, 3]   0.954023  0.946667  0.946323  0.946667\n",
       "4     [0, 1, 2]   0.935484  0.920000  0.918831  0.920000"
      ]
     },
     "execution_count": 26,
     "metadata": {},
     "output_type": "execute_result"
    }
   ],
   "source": [
    "# get the metrics with no features removed\n",
    "selected_features = list(range(len(iris.feature_names)))\n",
    "modeler_rf_sel = create_rf_modeler(X_train, y_train, X_test, y_test, selected_features, random_state)\n",
    "results = modeler_rf_sel.get_evaluation().iloc[: , 1:]\n",
    "results.insert(0, 'features', str(selected_features))\n",
    "\n",
    "# experiment with removal of single features\n",
    "for i, feature in enumerate(iris.feature_names):\n",
    "    selected_features = list(range(len(iris.feature_names)))\n",
    "    del selected_features[i]\n",
    "    modeler_rf_sel = create_rf_modeler(X_train, y_train, X_test, y_test, selected_features, random_state)\n",
    "    df_evaluation = modeler_rf_sel.get_evaluation().iloc[: , 1:]\n",
    "    df_evaluation.insert(0, 'features', str(selected_features))\n",
    "    results = results.append(df_evaluation, ignore_index=True)\n",
    "results"
   ]
  },
  {
   "cell_type": "markdown",
   "id": "2e6c686a",
   "metadata": {},
   "source": [
    "#### 3.2.3 Explain why it would be useful to remove these features.\n",
    "\n",
    "In general, reducing the number of features can be considered a good idea if the model performance remains very similar as it will decrease the model complexity. For example, when creating linear regression models, the  [AIC](https://en.wikipedia.org/wiki/Akaike_information_criterion) (Akaike information criterion) estimator can be used for model selection as it is specifically concerned with the trade-off between the goodness of fit and the simplicity of the model.\n",
    "\n",
    "In the context of Random Forest models, model performance might improve by removing features in some instances. For example, model performance can improve if there are highly correlated features causing overfitting in the model."
   ]
  },
  {
   "cell_type": "code",
   "execution_count": 27,
   "id": "6de4dd37",
   "metadata": {},
   "outputs": [
    {
     "data": {
      "text/html": [
       "<div>\n",
       "<style scoped>\n",
       "    .dataframe tbody tr th:only-of-type {\n",
       "        vertical-align: middle;\n",
       "    }\n",
       "\n",
       "    .dataframe tbody tr th {\n",
       "        vertical-align: top;\n",
       "    }\n",
       "\n",
       "    .dataframe thead th {\n",
       "        text-align: right;\n",
       "    }\n",
       "</style>\n",
       "<table border=\"1\" class=\"dataframe\">\n",
       "  <thead>\n",
       "    <tr style=\"text-align: right;\">\n",
       "      <th></th>\n",
       "      <th>sepal length (cm)</th>\n",
       "      <th>sepal width (cm)</th>\n",
       "      <th>petal length (cm)</th>\n",
       "      <th>petal width (cm)</th>\n",
       "    </tr>\n",
       "  </thead>\n",
       "  <tbody>\n",
       "    <tr>\n",
       "      <th>sepal length (cm)</th>\n",
       "      <td>1.000000</td>\n",
       "      <td>-0.117570</td>\n",
       "      <td>0.871754</td>\n",
       "      <td>0.817941</td>\n",
       "    </tr>\n",
       "    <tr>\n",
       "      <th>sepal width (cm)</th>\n",
       "      <td>-0.117570</td>\n",
       "      <td>1.000000</td>\n",
       "      <td>-0.428440</td>\n",
       "      <td>-0.366126</td>\n",
       "    </tr>\n",
       "    <tr>\n",
       "      <th>petal length (cm)</th>\n",
       "      <td>0.871754</td>\n",
       "      <td>-0.428440</td>\n",
       "      <td>1.000000</td>\n",
       "      <td>0.962865</td>\n",
       "    </tr>\n",
       "    <tr>\n",
       "      <th>petal width (cm)</th>\n",
       "      <td>0.817941</td>\n",
       "      <td>-0.366126</td>\n",
       "      <td>0.962865</td>\n",
       "      <td>1.000000</td>\n",
       "    </tr>\n",
       "  </tbody>\n",
       "</table>\n",
       "</div>"
      ],
      "text/plain": [
       "                   sepal length (cm)  sepal width (cm)  petal length (cm)  \\\n",
       "sepal length (cm)           1.000000         -0.117570           0.871754   \n",
       "sepal width (cm)           -0.117570          1.000000          -0.428440   \n",
       "petal length (cm)           0.871754         -0.428440           1.000000   \n",
       "petal width (cm)            0.817941         -0.366126           0.962865   \n",
       "\n",
       "                   petal width (cm)  \n",
       "sepal length (cm)          0.817941  \n",
       "sepal width (cm)          -0.366126  \n",
       "petal length (cm)          0.962865  \n",
       "petal width (cm)           1.000000  "
      ]
     },
     "execution_count": 27,
     "metadata": {},
     "output_type": "execute_result"
    }
   ],
   "source": [
    "bunch.data.corr()"
   ]
  },
  {
   "cell_type": "markdown",
   "id": "dfb16099",
   "metadata": {},
   "source": [
    "### 3.3 kNN Questions [4]"
   ]
  },
  {
   "cell_type": "markdown",
   "id": "66dd40df",
   "metadata": {},
   "source": [
    "#### 3.3.1 Do you think the kNN classifier is best suited to the iris dataset?\n",
    "\n",
    "In section 4.2, experimental data is generated by training three classifiers (Naïve Bayes, Random Forest, and kNN) on 100 different training samples that result from varying the random seed used for the training/test split and calculating the accuracy on the test set. From this data, the `KNeighborsClassifier` (kNN) model has the highest mean accuracy indicating that this model is the best suited for the iris dataset.\n",
    "\n",
    "The kNN classifier should also perform the best for the given dataset if we examine it from a theoretical viewpoint in that the ideal qualities listed in the section below holds.\n"
   ]
  },
  {
   "cell_type": "markdown",
   "id": "330fb31d",
   "metadata": {},
   "source": [
    "#### 3.3.2 What ideal qualities would the most appropriate dataset display?\n",
    "\n",
    "According to (Kumar, 2020) and various other sources, the kNN algorithm is most effective for datasets that exhibit the following qualities:\n",
    "\n",
    "-\tThe dataset is appropriately labelled and does not contain empty (NaN or NA) values.\n",
    "-\tThe data is noise-free. kNN can model complex boundaries between two classes and is sensitive to noisy data.\n",
    "-\tThe dataset is relatively small. This is because the kNN classifier has to store the training data to make predictions. Therefore using a large dataset is computationally expensive in terms of time and storage. (Brownlee, 2020)\n",
    "-\tA small number of features is used since the algorithm suffers from the curse of dimensionality if the number of features becomes very large."
   ]
  },
  {
   "cell_type": "markdown",
   "id": "6518fe4c",
   "metadata": {},
   "source": [
    "## 4 Comparing Models [18 marks total]"
   ]
  },
  {
   "cell_type": "code",
   "execution_count": 28,
   "id": "383f0a35",
   "metadata": {},
   "outputs": [
    {
     "data": {
      "text/html": [
       "<div>\n",
       "<style scoped>\n",
       "    .dataframe tbody tr th:only-of-type {\n",
       "        vertical-align: middle;\n",
       "    }\n",
       "\n",
       "    .dataframe tbody tr th {\n",
       "        vertical-align: top;\n",
       "    }\n",
       "\n",
       "    .dataframe thead th {\n",
       "        text-align: right;\n",
       "    }\n",
       "</style>\n",
       "<table border=\"1\" class=\"dataframe\">\n",
       "  <thead>\n",
       "    <tr style=\"text-align: right;\">\n",
       "      <th></th>\n",
       "      <th>model</th>\n",
       "      <th>precision</th>\n",
       "      <th>recall</th>\n",
       "      <th>f1-score</th>\n",
       "      <th>accuracy</th>\n",
       "    </tr>\n",
       "  </thead>\n",
       "  <tbody>\n",
       "    <tr>\n",
       "      <th>0</th>\n",
       "      <td>GaussianNB</td>\n",
       "      <td>0.964286</td>\n",
       "      <td>0.960000</td>\n",
       "      <td>0.959855</td>\n",
       "      <td>0.960000</td>\n",
       "    </tr>\n",
       "    <tr>\n",
       "      <th>0</th>\n",
       "      <td>RandomForestClassifier</td>\n",
       "      <td>0.964286</td>\n",
       "      <td>0.960000</td>\n",
       "      <td>0.959855</td>\n",
       "      <td>0.960000</td>\n",
       "    </tr>\n",
       "    <tr>\n",
       "      <th>0</th>\n",
       "      <td>KNeighborsClassifier</td>\n",
       "      <td>0.975309</td>\n",
       "      <td>0.973333</td>\n",
       "      <td>0.973291</td>\n",
       "      <td>0.973333</td>\n",
       "    </tr>\n",
       "  </tbody>\n",
       "</table>\n",
       "</div>"
      ],
      "text/plain": [
       "                    model  precision    recall  f1-score  accuracy\n",
       "0              GaussianNB   0.964286  0.960000  0.959855  0.960000\n",
       "0  RandomForestClassifier   0.964286  0.960000  0.959855  0.960000\n",
       "0    KNeighborsClassifier   0.975309  0.973333  0.973291  0.973333"
      ]
     },
     "execution_count": 28,
     "metadata": {},
     "output_type": "execute_result"
    }
   ],
   "source": [
    "# display the model metrics for the test set\n",
    "pd.concat([\n",
    "    modeler_nb.get_evaluation(),\n",
    "    modeler_rf.get_evaluation(),\n",
    "    modeler_knn.get_evaluation()\n",
    "])"
   ]
  },
  {
   "cell_type": "markdown",
   "id": "af73fc05",
   "metadata": {},
   "source": [
    "### 4.1 Compare each model [3]\n",
    "What differences do you see between your Naïve Bayes classifier, your random forest classifier, and your kNN classifier? "
   ]
  },
  {
   "cell_type": "markdown",
   "id": "b2ace70a",
   "metadata": {},
   "source": [
    "| Algorithm     | Notes                                                                                                                                                                                                                                                                                                                                                 | Accuracy | Training<br />Time | Inference<br />Time | Bias | Variance |\n",
    "|---------------|-------------------------------------------------------------------------------------------------------------------------------------------------------------------------------------------------------------------------------------------------------------------------------------------------------------------------------------------------------|----------|---------------|----------------|------|----------|\n",
    "| NaïveBayes    | a) Precision, recall, f1-score and accuracy is identical to the Random Forest Classifier. <br />b) The performance metrics for each class is also identical to the Random Forest classifier. <br />c) This model has the lowest combined training and inference time.                                                                                             | 0.960    | 0.1s          | 0.1s           | High | Low      |\n",
    "| Random Forest | a) All performance metrics are identical to the Naïve Bayes classifier. <br />b) This classifier has the highest training time, but inference time is as low as the Naïve Bayes classifier.                                                                                                                                                                  | 0.960    | 0.6s          | 0.1s           | Low  | High     |\n",
    "| kNN           | a) The kNN classifier has the best performance metrics on the test set. <br />b) While the training time is as fast as the Naïve Bayes classifier, this model has the longest inference time. <br />This observation is also reflected in theory for kNN models suggesting that this kNN might not be the best <br />choice if high-frequency predictions are required. | 0.973    | 0.1s          | 0.2s           | Low  | High     |\n",
    "\n",
    "Notes:\n",
    "\n",
    "- Performance metrics are taken from the following sections:  1.1.1, 1.2.1, and 1.3. The metrics are on the test dataset.\n",
    "- Training and Inference time are taken from the cell execution time as measured by Visual Studio Code on a MacBook Pro (16-inch, 2019).\n",
    "- Inference time refers to the time taken for performing predictions on the test set and producing the performance metrics.\n",
    "- Bias and Variance are known properties for the algorithms and were not directly measured."
   ]
  },
  {
   "cell_type": "markdown",
   "id": "a947cf53",
   "metadata": {},
   "source": [
    "### 4.2 Accuracy [6]\n",
    "Can you explain why there are differences in accuracy between the three classifiers? "
   ]
  },
  {
   "cell_type": "code",
   "execution_count": 30,
   "id": "8667faac",
   "metadata": {},
   "outputs": [],
   "source": [
    "#Write your answer here\n",
    "\n"
   ]
  },
  {
   "cell_type": "markdown",
   "id": "b73bb1d0",
   "metadata": {},
   "source": [
    "| Algorithm     | Bias | Variance |\n",
    "| ------------- | ---- | -------- |\n",
    "| Naive Bayes   | High | Low      |\n",
    "| Random Forest | Low  | High     |\n",
    "| kNN           | Low  | High     |"
   ]
  },
  {
   "cell_type": "markdown",
   "id": "32846efc",
   "metadata": {},
   "source": [
    "https://machinelearningmastery.com/different-results-each-time-in-machine-learning/\n",
    "\n",
    "- Variance: How sensitive the algorithm is to the specific data used during training.\n",
    "- A more sensitive algorithm has a larger variance, which will result in more difference in the model, and in turn, the predictions made and evaluation of the model. Conversely, a less sensitive algorithm has a smaller variance and will result in less difference in the resulting model with different training data, and in turn, less difference in the resulting predictions and model evaluation.\n",
    " \n",
    " https://machinelearningmastery.com/gentle-introduction-to-the-bias-variance-trade-off-in-machine-learning/\n",
    "\n",
    "- Low Bias: Suggests less assumptions about the form of the target function.\n",
    "- High-Bias: Suggests more assumptions about the form of the target function.\n",
    "- Examples of low-bias machine learning algorithms include: Decision Trees, k-Nearest Neighbors and Support Vector Machines.\n",
    "- Examples of high-bias machine learning algorithms include: Linear Regression, Linear Discriminant Analysis and Logistic Regression.\n",
    "\n",
    " - Variance Error: Variance is the amount that the estimate of the target function will change if different training data was used.\n",
    " - The target function is estimated from the training data by a machine learning algorithm, so we should expect the algorithm to have some variance.\n",
    " - The k-nearest neighbors algorithm has low bias and high variance, but the trade-off can be changed by increasing the value of k which increases the number of neighbors that contribute t the prediction and in turn increases the bias of the model.\n",
    "\n",
    " https://www.ncbi.nlm.nih.gov/pmc/articles/PMC6695655/\n",
    " - Naïve Bayes are not sensitive to dataset composition, whereas others e.g., hyperpipes (hip), k-nearest neighbors (lBk) and random forest (RF) are highly sensitive. Therefore, the best (or suitable) classifiers can only be selected if the dataset composition is also considered.\n",
    "\n",
    " https://www.analyticsvidhya.com/blog/2020/12/a-measure-of-bias-and-variance-an-experiment/\n",
    "\n",
    " - Random Forest - \tLow Bias, High Variance\n",
    "\n",
    " https://citeseerx.ist.psu.edu/viewdoc/download?doi=10.1.1.579.2693&rep=rep1&type=pdf\n",
    "\n",
    " - High bias and low variance algorithms result in models that are more robust to changes in the training data since they are not close representations of that data.\n",
    "- Naive Bayes is generally regarded as high bias and low variance because the assumptions it makes about the interactions among features have nothing to do with a particular training sample."
   ]
  },
  {
   "cell_type": "code",
   "execution_count": 31,
   "metadata": {},
   "outputs": [],
   "source": [
    "def get_random_influence(models:list, random_seeds:list, X, y, target_names, all_data:bool=False, stratify:bool=True) -> pd.DataFrame:\n",
    "    \"\"\"\n",
    "    Experiment with the influence of the random seed on model accuracy.\n",
    "\n",
    "    Parameters\n",
    "    ----------\n",
    "    models : list\n",
    "        The list of models to evaluate.\n",
    "    random_seeds : list\n",
    "        The random seeds.\n",
    "    X : numpy array\n",
    "        The training data.\n",
    "    y : numpy array\n",
    "        The training labels.\n",
    "    target_names : list\n",
    "        The target names.\n",
    "    all_data : bool, optional\n",
    "        Whether to use all the data for training and testing.\n",
    "    stratify : bool, optional\n",
    "        Whether to stratify the data.\n",
    "\n",
    "    Returns\n",
    "    -------\n",
    "    pd.DataFrame\n",
    "        A dataframe containing the experiment results.\n",
    "    \"\"\"\n",
    "\n",
    "    df_random_influence = pd.DataFrame(columns=['model', 'seed', 'accuracy'])\n",
    "    for random_seed in random_seeds:\n",
    "        if all_data:\n",
    "            # use the complete dataset for training and testing\n",
    "            X_train = X\n",
    "            X_test = X\n",
    "            y_train = y\n",
    "            y_test = y\n",
    "        else:\n",
    "            # create the data split using the random seed\n",
    "            X_train, X_test, y_train, y_test = train_test_split(\n",
    "                X, y,\n",
    "                test_size=test_frac, \n",
    "                stratify=y if stratify else None,\n",
    "                random_state=random_seed)     \n",
    "\n",
    "        # evaluate each model\n",
    "        for model in models:\n",
    "            if hasattr(model, 'random_state'):\n",
    "                model.random_state = random_seed\n",
    "\n",
    "            modeler = Modeler(\n",
    "                model=model, \n",
    "                X_train=X_train, \n",
    "                X_test=X_test, \n",
    "                y_train=y_train, \n",
    "                y_test=y_test,\n",
    "                feature_names=None,\n",
    "                target_names=target_names)\n",
    "\n",
    "            # train the model\n",
    "            modeler.train()\n",
    "\n",
    "            # get the model accuracy\n",
    "            accuracy = modeler.get_accuracy()\n",
    "\n",
    "            # add the model accuracy to the dataframe\n",
    "            df_random_influence = df_random_influence.append(\n",
    "                {\n",
    "                    'model': model.__class__.__name__,\n",
    "                    'seed': random_seed,\n",
    "                    'accuracy': accuracy\n",
    "                },\n",
    "                ignore_index=True\n",
    "            )\n",
    "\n",
    "    return df_random_influence"
   ]
  },
  {
   "cell_type": "code",
   "execution_count": 32,
   "id": "3381bc18",
   "metadata": {},
   "outputs": [],
   "source": [
    "# get a list of random seeds to use for the experiment\n",
    "random.seed(random_state)\n",
    "random_seeds = [random.randint(0,9000) for i in range(0,100)]\n",
    "\n",
    "#random_seeds = [random_state, 43, 80085, 3000, 2000, 4000]\n",
    "#random_seeds = list(range(0, 100))\n",
    "\n",
    "# get the accuracy of the models using different random seeds\n",
    "df_accuracy = get_random_influence(\n",
    "    models=[modeler_nb.model, modeler_rf.model, modeler_knn.model],\n",
    "    random_seeds=random_seeds,\n",
    "    X=X,\n",
    "    y=y,\n",
    "    target_names=iris.target_names,\n",
    "    stratify=False)"
   ]
  },
  {
   "cell_type": "code",
   "execution_count": 33,
   "id": "73c19c47",
   "metadata": {},
   "outputs": [
    {
     "data": {
      "text/plain": [
       "Text(0.5, 1.0, 'Figure 2. Model Accuracy')"
      ]
     },
     "execution_count": 33,
     "metadata": {},
     "output_type": "execute_result"
    },
    {
     "data": {
      "image/png": "[encoded data removed]",
      "text/plain": [
       "<Figure size 576x396 with 1 Axes>"
      ]
     },
     "metadata": {},
     "output_type": "display_data"
    }
   ],
   "source": [
    "# plot the results\n",
    "sns.barplot(\n",
    "    data=df_accuracy.head(10*3),\n",
    "    x='seed',\n",
    "    y='accuracy',\n",
    "    hue='model').set_title('Figure 2. Model Accuracy')"
   ]
  },
  {
   "cell_type": "markdown",
   "id": "e4113280",
   "metadata": {},
   "source": [
    "> ❌ Use the table below to look at the accuracy mean (bias) and standard deviation (variance) to help explain the the differences in accuracy. KNN has a low bias and high variance."
   ]
  },
  {
   "cell_type": "code",
   "execution_count": 34,
   "id": "d8071f72",
   "metadata": {},
   "outputs": [
    {
     "data": {
      "text/html": [
       "<div>\n",
       "<style scoped>\n",
       "    .dataframe tbody tr th:only-of-type {\n",
       "        vertical-align: middle;\n",
       "    }\n",
       "\n",
       "    .dataframe tbody tr th {\n",
       "        vertical-align: top;\n",
       "    }\n",
       "\n",
       "    .dataframe thead th {\n",
       "        text-align: right;\n",
       "    }\n",
       "</style>\n",
       "<table border=\"1\" class=\"dataframe\">\n",
       "  <thead>\n",
       "    <tr style=\"text-align: right;\">\n",
       "      <th></th>\n",
       "      <th>model</th>\n",
       "      <th>count</th>\n",
       "      <th>mean</th>\n",
       "      <th>std</th>\n",
       "      <th>min</th>\n",
       "      <th>25%</th>\n",
       "      <th>50%</th>\n",
       "      <th>75%</th>\n",
       "      <th>max</th>\n",
       "    </tr>\n",
       "  </thead>\n",
       "  <tbody>\n",
       "    <tr>\n",
       "      <th>0</th>\n",
       "      <td>GaussianNB</td>\n",
       "      <td>100.0</td>\n",
       "      <td>0.950667</td>\n",
       "      <td>0.019740</td>\n",
       "      <td>0.906667</td>\n",
       "      <td>0.933333</td>\n",
       "      <td>0.946667</td>\n",
       "      <td>0.960000</td>\n",
       "      <td>0.986667</td>\n",
       "    </tr>\n",
       "    <tr>\n",
       "      <th>1</th>\n",
       "      <td>KNeighborsClassifier</td>\n",
       "      <td>100.0</td>\n",
       "      <td>0.957733</td>\n",
       "      <td>0.022587</td>\n",
       "      <td>0.880000</td>\n",
       "      <td>0.946667</td>\n",
       "      <td>0.960000</td>\n",
       "      <td>0.973333</td>\n",
       "      <td>1.000000</td>\n",
       "    </tr>\n",
       "    <tr>\n",
       "      <th>2</th>\n",
       "      <td>RandomForestClassifier</td>\n",
       "      <td>100.0</td>\n",
       "      <td>0.945867</td>\n",
       "      <td>0.021509</td>\n",
       "      <td>0.866667</td>\n",
       "      <td>0.933333</td>\n",
       "      <td>0.946667</td>\n",
       "      <td>0.960000</td>\n",
       "      <td>0.986667</td>\n",
       "    </tr>\n",
       "  </tbody>\n",
       "</table>\n",
       "</div>"
      ],
      "text/plain": [
       "                    model  count      mean       std       min       25%  \\\n",
       "0              GaussianNB  100.0  0.950667  0.019740  0.906667  0.933333   \n",
       "1    KNeighborsClassifier  100.0  0.957733  0.022587  0.880000  0.946667   \n",
       "2  RandomForestClassifier  100.0  0.945867  0.021509  0.866667  0.933333   \n",
       "\n",
       "        50%       75%       max  \n",
       "0  0.946667  0.960000  0.986667  \n",
       "1  0.960000  0.973333  1.000000  \n",
       "2  0.946667  0.960000  0.986667  "
      ]
     },
     "execution_count": 34,
     "metadata": {},
     "output_type": "execute_result"
    }
   ],
   "source": [
    "df_accuracy.groupby('model').describe().droplevel(axis=1, level=0).reset_index()"
   ]
  },
  {
   "cell_type": "code",
   "execution_count": 35,
   "id": "6be5aef3",
   "metadata": {},
   "outputs": [
    {
     "data": {
      "text/plain": [
       "Text(0.5, 1.0, 'Figure 3. Model Accuracy - All Data')"
      ]
     },
     "execution_count": 35,
     "metadata": {},
     "output_type": "execute_result"
    },
    {
     "data": {
      "image/png": "[encoded data removed]",
      "text/plain": [
       "<Figure size 576x396 with 1 Axes>"
      ]
     },
     "metadata": {},
     "output_type": "display_data"
    }
   ],
   "source": [
    "# get the accuracy of the models using different random seeds\n",
    "df_accuracy = get_random_influence(\n",
    "    models=[modeler_nb.model, modeler_rf.model, modeler_knn.model],\n",
    "    random_seeds=list(range(1,4)),\n",
    "    X=X,\n",
    "    y=y,\n",
    "    target_names=iris.target_names,\n",
    "    all_data=True)\n",
    "\n",
    "# plot the results\n",
    "sns.barplot(\n",
    "    data=df_accuracy,\n",
    "    x='seed',\n",
    "    y='accuracy',\n",
    "    hue='model').set_title('Figure 3. Model Accuracy - All Data')"
   ]
  },
  {
   "cell_type": "markdown",
   "id": "314f44bc",
   "metadata": {},
   "source": [
    "### 4.3 Appropriate Use [9]\n",
    "When would it be appropriate to use each different classifier? \n",
    "\n",
    "Reference real-world situations and examples of specific data sets and explain why that classifier would be most appropriate for that use-case."
   ]
  },
  {
   "cell_type": "code",
   "execution_count": 36,
   "id": "9b5e465e",
   "metadata": {},
   "outputs": [],
   "source": [
    "#Write your answer here"
   ]
  }
 ],
 "metadata": {
  "kernelspec": {
   "display_name": "Python 3",
   "language": "python",
   "name": "python3"
  },
  "language_info": {
   "codemirror_mode": {
    "name": "ipython",
    "version": 3
   },
   "file_extension": ".py",
   "mimetype": "text/x-python",
   "name": "python",
   "nbconvert_exporter": "python",
   "pygments_lexer": "ipython3",
   "version": "3.8.12"
  }
 },
 "nbformat": 4,
 "nbformat_minor": 5
}
