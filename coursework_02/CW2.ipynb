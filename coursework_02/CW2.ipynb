{
 "cells": [
  {
   "cell_type": "markdown",
   "id": "c113f396",
   "metadata": {},
   "source": [
    "# Machine Learning Coursework 2\n",
    "\n",
    "For coursework 2 you will be asked to train and evalute several different classifiers: Naïve Bayes classifier, Random Forest classifier, and kNN classifier using the iris dataset. You will be asked to answer a series of questions relating to each individual model and questions comparing each model. \n",
    "\n",
    "#### You are free to use the sklearn library. \n",
    "\n",
    "\n",
    "Notes:\n",
    "- Remember to comment all of your code (see here for tips: https://stackabuse.com/commenting-python-code/). You can also make use of Jupyter Markdown, where appropriate, to improve the layout of your code and documentation.\n",
    "- Please add docstrings to all of your functions (so that users can get information on inputs/outputs and what each function does by typing SHIFT+TAB over the function name. For more detail on python docstrings, see here: https://numpydoc.readthedocs.io/en/latest/format.html)\n",
    "- When a question allows a free-form answer (e.g. what do you observe?), create a new markdown cell below and answer the question in the notebook. \n",
    "- Always save your notebook when you are done (this is not automatic)!\n",
    "- Upload your completed notebook using the VLE\n",
    "\n",
    "Plagiarism: please make sure that the material you submit has been created by you. Any sources you use for code should be properly referenced. Your code will be checked for plagiarism using appropriate software.\n",
    "\n",
    "### Marking \n",
    "\n",
    "The grades in this coursework are allocated approximately as follows:\n",
    "\n",
    "|                                                    | mark  |  \n",
    "|----------------------------------------------------|-------|\n",
    "| Code                                               | 7     |\n",
    "| Code Report/comments                               | 6     |\n",
    "| Model questions                                    | 14    |  \n",
    "| Model comparision questions                        | 18    |\n",
    "| Total available                                    |**45** |  \n",
    "\n",
    "##### Remember to save your notebook as “CW2.ipynb”. It is a good idea to re-run the whole thing before saving and submitting. \n",
    "\n",
    "\n",
    "\n",
    "\n",
    "\n",
    "\n",
    "\n",
    "\n"
   ]
  },
  {
   "cell_type": "markdown",
   "id": "8426c004",
   "metadata": {},
   "source": [
    "## Web References\n",
    "\n",
    "- [The Iris Dataset](https://scikit-learn.org/stable/auto_examples/datasets/plot_iris_dataset.html)\n",
    "- [sklearn.datasets.load_iris](https://scikit-learn.org/stable/modules/generated/sklearn.datasets.load_iris.html)\n",
    "- [Iris Species:100% Accuracy using Naive bayes](https://www.kaggle.com/vinayshaw/iris-species-100-accuracy-using-naive-bayes)\n",
    "- [Naive Bayes Classifier with Scikit](https://python-course.eu/machine-learning/naive-bayes-classifier-with-scikit.php)\n",
    "- [scikit-learn Classifiers on Iris Dataset](https://www.kaggle.com/chungyehwang/scikit-learn-classifiers-on-iris-dataset)\n",
    "- [Random Forest Feature Importance Computed in 3 Ways with Python](https://mljar.com/blog/feature-importance-in-random-forest/#:~:text=Random%20Forest%20Built-in%20Feature%20Importance&text=It%20is%20a%20set%20of,sets%20with%20similars%20responses%20within.)"
   ]
  },
  {
   "cell_type": "markdown",
   "id": "f7a8d45f",
   "metadata": {},
   "source": [
    "## Import Libraries"
   ]
  },
  {
   "cell_type": "code",
   "execution_count": 1,
   "id": "1b356457",
   "metadata": {},
   "outputs": [],
   "source": [
    "import pandas as pd\n",
    "import random\n",
    "import seaborn as sns\n",
    "from sklearn.model_selection import train_test_split\n",
    "from sklearn.metrics import classification_report\n",
    "from sklearn.metrics import precision_score, recall_score, f1_score, accuracy_score\n",
    "from sklearn.metrics import precision_recall_fscore_support\n",
    "from sklearn.feature_selection import SelectFromModel\n",
    "from sklearn.naive_bayes import GaussianNB\n",
    "from sklearn.ensemble import RandomForestClassifier\n",
    "from sklearn.neighbors import KNeighborsClassifier"
   ]
  },
  {
   "cell_type": "code",
   "execution_count": 2,
   "id": "69bbe83a",
   "metadata": {},
   "outputs": [],
   "source": [
    "# set the randon seed to use for reproducibility\n",
    "random_state = 1337\n",
    "\n",
    "# the fraction of the data to use for testing\n",
    "test_frac = 0.5"
   ]
  },
  {
   "cell_type": "markdown",
   "id": "d83f1b29",
   "metadata": {},
   "source": [
    "## 1. Classifiers [7 marks total]\n",
    "Code and train your three classifiers in the cells below the corresponding header. You do not need to implement cross-validation in this coursework, simply fit the data. You are free to use sklearn and other packages where necessary.  \n",
    "\n"
   ]
  },
  {
   "cell_type": "code",
   "execution_count": 3,
   "id": "794c154e",
   "metadata": {},
   "outputs": [],
   "source": [
    "# import datasets\n",
    "from sklearn import datasets \n",
    "\n",
    "# load data\n",
    "iris = datasets.load_iris() # load data \n",
    "#print(iris.DESCR) # print dataset description"
   ]
  },
  {
   "cell_type": "code",
   "execution_count": 4,
   "id": "94a34750",
   "metadata": {},
   "outputs": [],
   "source": [
    "# get the predictors and target\n",
    "X = iris.data\n",
    "y = iris.target"
   ]
  },
  {
   "cell_type": "code",
   "execution_count": 5,
   "id": "57159958",
   "metadata": {},
   "outputs": [
    {
     "name": "stdout",
     "output_type": "stream",
     "text": [
      "There are 75 samples in the training set and 75 samples in the test set\n"
     ]
    }
   ],
   "source": [
    "# split the dataset into training and test data\n",
    "X_train, X_test, y_train, y_test = train_test_split(\n",
    "    X, y,\n",
    "    test_size=test_frac, \n",
    "    stratify=y,\n",
    "    random_state=random_state)\n",
    "\n",
    "print('There are %d samples in the training set and %d samples in the test set' % (X_train.shape[0], X_test.shape[0]))"
   ]
  },
  {
   "cell_type": "markdown",
   "id": "31c2f282",
   "metadata": {},
   "source": [
    "### a) Baseline\n",
    "\n",
    "The Pycaret library is use in this section to establish a baseline for model performance."
   ]
  },
  {
   "cell_type": "markdown",
   "id": "5c5e680f",
   "metadata": {},
   "source": [
    "> ℹ️ This section is not core the answering the coursework questions."
   ]
  },
  {
   "cell_type": "code",
   "execution_count": 6,
   "id": "624f69e0",
   "metadata": {},
   "outputs": [],
   "source": [
    "# import the pycaret dependencies\n",
    "from pycaret.classification import *"
   ]
  },
  {
   "cell_type": "code",
   "execution_count": 7,
   "id": "944201eb",
   "metadata": {},
   "outputs": [],
   "source": [
    "# convert the training dataset to a dataframe\n",
    "df_train = pd.DataFrame(data=X_train, columns=iris.feature_names)\n",
    "df_train['target'] = pd.Series(y_train)\n",
    "\n",
    "# convert the test data to a dataframe\n",
    "df_test = pd.DataFrame(data=X_test, columns=iris.feature_names)\n",
    "df_test['target'] = pd.Series(y_test)"
   ]
  },
  {
   "cell_type": "code",
   "execution_count": 8,
   "id": "a4acb130",
   "metadata": {},
   "outputs": [],
   "source": [
    "# initialize the training environment and transformation pipeline\n",
    "classifier = setup(\n",
    "    data=df_train, \n",
    "    target='target',\n",
    "    session_id=random_state,\n",
    "    silent=True,\n",
    "    verbose=False)"
   ]
  },
  {
   "cell_type": "code",
   "execution_count": 9,
   "id": "c129a808",
   "metadata": {},
   "outputs": [
    {
     "data": {
      "text/html": [
       "<style type=\"text/css\">\n",
       "#T_c5cf8_ th {\n",
       "  text-align: left;\n",
       "}\n",
       "#T_c5cf8_row0_col0, #T_c5cf8_row0_col2, #T_c5cf8_row0_col7, #T_c5cf8_row1_col0, #T_c5cf8_row1_col1, #T_c5cf8_row1_col4, #T_c5cf8_row1_col5, #T_c5cf8_row1_col6, #T_c5cf8_row2_col0, #T_c5cf8_row2_col1, #T_c5cf8_row2_col3, #T_c5cf8_row2_col4, #T_c5cf8_row2_col5, #T_c5cf8_row2_col6, #T_c5cf8_row2_col7 {\n",
       "  text-align: left;\n",
       "}\n",
       "#T_c5cf8_row0_col1, #T_c5cf8_row0_col3, #T_c5cf8_row0_col4, #T_c5cf8_row0_col5, #T_c5cf8_row0_col6, #T_c5cf8_row1_col2, #T_c5cf8_row1_col3, #T_c5cf8_row1_col7, #T_c5cf8_row2_col2 {\n",
       "  text-align: left;\n",
       "  background-color: yellow;\n",
       "}\n",
       "#T_c5cf8_row0_col8, #T_c5cf8_row1_col8 {\n",
       "  text-align: left;\n",
       "  background-color: lightgrey;\n",
       "}\n",
       "#T_c5cf8_row2_col8 {\n",
       "  text-align: left;\n",
       "  background-color: yellow;\n",
       "  background-color: lightgrey;\n",
       "}\n",
       "</style>\n",
       "<table id=\"T_c5cf8_\">\n",
       "  <thead>\n",
       "    <tr>\n",
       "      <th class=\"blank level0\" >&nbsp;</th>\n",
       "      <th class=\"col_heading level0 col0\" >Model</th>\n",
       "      <th class=\"col_heading level0 col1\" >Accuracy</th>\n",
       "      <th class=\"col_heading level0 col2\" >AUC</th>\n",
       "      <th class=\"col_heading level0 col3\" >Recall</th>\n",
       "      <th class=\"col_heading level0 col4\" >Prec.</th>\n",
       "      <th class=\"col_heading level0 col5\" >F1</th>\n",
       "      <th class=\"col_heading level0 col6\" >Kappa</th>\n",
       "      <th class=\"col_heading level0 col7\" >MCC</th>\n",
       "      <th class=\"col_heading level0 col8\" >TT (Sec)</th>\n",
       "    </tr>\n",
       "  </thead>\n",
       "  <tbody>\n",
       "    <tr>\n",
       "      <th id=\"T_c5cf8_level0_row0\" class=\"row_heading level0 row0\" >nb</th>\n",
       "      <td id=\"T_c5cf8_row0_col0\" class=\"data row0 col0\" >Naive Bayes</td>\n",
       "      <td id=\"T_c5cf8_row0_col1\" class=\"data row0 col1\" >0.9467</td>\n",
       "      <td id=\"T_c5cf8_row0_col2\" class=\"data row0 col2\" >0.9917</td>\n",
       "      <td id=\"T_c5cf8_row0_col3\" class=\"data row0 col3\" >0.9500</td>\n",
       "      <td id=\"T_c5cf8_row0_col4\" class=\"data row0 col4\" >0.9678</td>\n",
       "      <td id=\"T_c5cf8_row0_col5\" class=\"data row0 col5\" >0.9444</td>\n",
       "      <td id=\"T_c5cf8_row0_col6\" class=\"data row0 col6\" >0.9206</td>\n",
       "      <td id=\"T_c5cf8_row0_col7\" class=\"data row0 col7\" >0.9317</td>\n",
       "      <td id=\"T_c5cf8_row0_col8\" class=\"data row0 col8\" >0.3620</td>\n",
       "    </tr>\n",
       "    <tr>\n",
       "      <th id=\"T_c5cf8_level0_row1\" class=\"row_heading level0 row1\" >rf</th>\n",
       "      <td id=\"T_c5cf8_row1_col0\" class=\"data row1 col0\" >Random Forest Classifier</td>\n",
       "      <td id=\"T_c5cf8_row1_col1\" class=\"data row1 col1\" >0.9433</td>\n",
       "      <td id=\"T_c5cf8_row1_col2\" class=\"data row1 col2\" >1.0000</td>\n",
       "      <td id=\"T_c5cf8_row1_col3\" class=\"data row1 col3\" >0.9500</td>\n",
       "      <td id=\"T_c5cf8_row1_col4\" class=\"data row1 col4\" >0.9356</td>\n",
       "      <td id=\"T_c5cf8_row1_col5\" class=\"data row1 col5\" >0.9322</td>\n",
       "      <td id=\"T_c5cf8_row1_col6\" class=\"data row1 col6\" >0.9194</td>\n",
       "      <td id=\"T_c5cf8_row1_col7\" class=\"data row1 col7\" >0.9361</td>\n",
       "      <td id=\"T_c5cf8_row1_col8\" class=\"data row1 col8\" >0.4260</td>\n",
       "    </tr>\n",
       "    <tr>\n",
       "      <th id=\"T_c5cf8_level0_row2\" class=\"row_heading level0 row2\" >knn</th>\n",
       "      <td id=\"T_c5cf8_row2_col0\" class=\"data row2 col0\" >K Neighbors Classifier</td>\n",
       "      <td id=\"T_c5cf8_row2_col1\" class=\"data row2 col1\" >0.9267</td>\n",
       "      <td id=\"T_c5cf8_row2_col2\" class=\"data row2 col2\" >1.0000</td>\n",
       "      <td id=\"T_c5cf8_row2_col3\" class=\"data row2 col3\" >0.9333</td>\n",
       "      <td id=\"T_c5cf8_row2_col4\" class=\"data row2 col4\" >0.9544</td>\n",
       "      <td id=\"T_c5cf8_row2_col5\" class=\"data row2 col5\" >0.9231</td>\n",
       "      <td id=\"T_c5cf8_row2_col6\" class=\"data row2 col6\" >0.8893</td>\n",
       "      <td id=\"T_c5cf8_row2_col7\" class=\"data row2 col7\" >0.9052</td>\n",
       "      <td id=\"T_c5cf8_row2_col8\" class=\"data row2 col8\" >0.0130</td>\n",
       "    </tr>\n",
       "  </tbody>\n",
       "</table>\n"
      ],
      "text/plain": [
       "<pandas.io.formats.style.Styler at 0x7f0f2b276460>"
      ]
     },
     "metadata": {},
     "output_type": "display_data"
    }
   ],
   "source": [
    "# train a naive bayes, random forest, and knn classification model\n",
    "models = compare_models(include=['nb', 'rf', 'knn'], n_select=3)"
   ]
  },
  {
   "cell_type": "markdown",
   "id": "e14c7970",
   "metadata": {},
   "source": [
    "The following section optimizes each model by using a [random grid search](https://scikit-learn.org/stable/modules/generated/sklearn.model_selection.RandomizedSearchCV.html) from the scikit-learn library."
   ]
  },
  {
   "cell_type": "code",
   "execution_count": 10,
   "id": "4f1fbc24",
   "metadata": {},
   "outputs": [
    {
     "data": {
      "text/html": [
       "<style type=\"text/css\">\n",
       "#T_1c96e_row10_col0, #T_1c96e_row10_col1, #T_1c96e_row10_col2, #T_1c96e_row10_col3, #T_1c96e_row10_col4, #T_1c96e_row10_col5, #T_1c96e_row10_col6 {\n",
       "  background: yellow;\n",
       "}\n",
       "</style>\n",
       "<table id=\"T_1c96e_\">\n",
       "  <thead>\n",
       "    <tr>\n",
       "      <th class=\"blank level0\" >&nbsp;</th>\n",
       "      <th class=\"col_heading level0 col0\" >Accuracy</th>\n",
       "      <th class=\"col_heading level0 col1\" >AUC</th>\n",
       "      <th class=\"col_heading level0 col2\" >Recall</th>\n",
       "      <th class=\"col_heading level0 col3\" >Prec.</th>\n",
       "      <th class=\"col_heading level0 col4\" >F1</th>\n",
       "      <th class=\"col_heading level0 col5\" >Kappa</th>\n",
       "      <th class=\"col_heading level0 col6\" >MCC</th>\n",
       "    </tr>\n",
       "  </thead>\n",
       "  <tbody>\n",
       "    <tr>\n",
       "      <th id=\"T_1c96e_level0_row0\" class=\"row_heading level0 row0\" >0</th>\n",
       "      <td id=\"T_1c96e_row0_col0\" class=\"data row0 col0\" >0.8333</td>\n",
       "      <td id=\"T_1c96e_row0_col1\" class=\"data row0 col1\" >1.0000</td>\n",
       "      <td id=\"T_1c96e_row0_col2\" class=\"data row0 col2\" >0.8333</td>\n",
       "      <td id=\"T_1c96e_row0_col3\" class=\"data row0 col3\" >0.8889</td>\n",
       "      <td id=\"T_1c96e_row0_col4\" class=\"data row0 col4\" >0.8222</td>\n",
       "      <td id=\"T_1c96e_row0_col5\" class=\"data row0 col5\" >0.7500</td>\n",
       "      <td id=\"T_1c96e_row0_col6\" class=\"data row0 col6\" >0.7833</td>\n",
       "    </tr>\n",
       "    <tr>\n",
       "      <th id=\"T_1c96e_level0_row1\" class=\"row_heading level0 row1\" >1</th>\n",
       "      <td id=\"T_1c96e_row1_col0\" class=\"data row1 col0\" >0.8333</td>\n",
       "      <td id=\"T_1c96e_row1_col1\" class=\"data row1 col1\" >1.0000</td>\n",
       "      <td id=\"T_1c96e_row1_col2\" class=\"data row1 col2\" >0.8333</td>\n",
       "      <td id=\"T_1c96e_row1_col3\" class=\"data row1 col3\" >0.8889</td>\n",
       "      <td id=\"T_1c96e_row1_col4\" class=\"data row1 col4\" >0.8222</td>\n",
       "      <td id=\"T_1c96e_row1_col5\" class=\"data row1 col5\" >0.7500</td>\n",
       "      <td id=\"T_1c96e_row1_col6\" class=\"data row1 col6\" >0.7833</td>\n",
       "    </tr>\n",
       "    <tr>\n",
       "      <th id=\"T_1c96e_level0_row2\" class=\"row_heading level0 row2\" >2</th>\n",
       "      <td id=\"T_1c96e_row2_col0\" class=\"data row2 col0\" >1.0000</td>\n",
       "      <td id=\"T_1c96e_row2_col1\" class=\"data row2 col1\" >1.0000</td>\n",
       "      <td id=\"T_1c96e_row2_col2\" class=\"data row2 col2\" >1.0000</td>\n",
       "      <td id=\"T_1c96e_row2_col3\" class=\"data row2 col3\" >1.0000</td>\n",
       "      <td id=\"T_1c96e_row2_col4\" class=\"data row2 col4\" >1.0000</td>\n",
       "      <td id=\"T_1c96e_row2_col5\" class=\"data row2 col5\" >1.0000</td>\n",
       "      <td id=\"T_1c96e_row2_col6\" class=\"data row2 col6\" >1.0000</td>\n",
       "    </tr>\n",
       "    <tr>\n",
       "      <th id=\"T_1c96e_level0_row3\" class=\"row_heading level0 row3\" >3</th>\n",
       "      <td id=\"T_1c96e_row3_col0\" class=\"data row3 col0\" >0.8000</td>\n",
       "      <td id=\"T_1c96e_row3_col1\" class=\"data row3 col1\" >1.0000</td>\n",
       "      <td id=\"T_1c96e_row3_col2\" class=\"data row3 col2\" >0.8333</td>\n",
       "      <td id=\"T_1c96e_row3_col3\" class=\"data row3 col3\" >0.8667</td>\n",
       "      <td id=\"T_1c96e_row3_col4\" class=\"data row3 col4\" >0.7867</td>\n",
       "      <td id=\"T_1c96e_row3_col5\" class=\"data row3 col5\" >0.6875</td>\n",
       "      <td id=\"T_1c96e_row3_col6\" class=\"data row3 col6\" >0.7350</td>\n",
       "    </tr>\n",
       "    <tr>\n",
       "      <th id=\"T_1c96e_level0_row4\" class=\"row_heading level0 row4\" >4</th>\n",
       "      <td id=\"T_1c96e_row4_col0\" class=\"data row4 col0\" >1.0000</td>\n",
       "      <td id=\"T_1c96e_row4_col1\" class=\"data row4 col1\" >1.0000</td>\n",
       "      <td id=\"T_1c96e_row4_col2\" class=\"data row4 col2\" >1.0000</td>\n",
       "      <td id=\"T_1c96e_row4_col3\" class=\"data row4 col3\" >1.0000</td>\n",
       "      <td id=\"T_1c96e_row4_col4\" class=\"data row4 col4\" >1.0000</td>\n",
       "      <td id=\"T_1c96e_row4_col5\" class=\"data row4 col5\" >1.0000</td>\n",
       "      <td id=\"T_1c96e_row4_col6\" class=\"data row4 col6\" >1.0000</td>\n",
       "    </tr>\n",
       "    <tr>\n",
       "      <th id=\"T_1c96e_level0_row5\" class=\"row_heading level0 row5\" >5</th>\n",
       "      <td id=\"T_1c96e_row5_col0\" class=\"data row5 col0\" >1.0000</td>\n",
       "      <td id=\"T_1c96e_row5_col1\" class=\"data row5 col1\" >1.0000</td>\n",
       "      <td id=\"T_1c96e_row5_col2\" class=\"data row5 col2\" >1.0000</td>\n",
       "      <td id=\"T_1c96e_row5_col3\" class=\"data row5 col3\" >1.0000</td>\n",
       "      <td id=\"T_1c96e_row5_col4\" class=\"data row5 col4\" >1.0000</td>\n",
       "      <td id=\"T_1c96e_row5_col5\" class=\"data row5 col5\" >1.0000</td>\n",
       "      <td id=\"T_1c96e_row5_col6\" class=\"data row5 col6\" >1.0000</td>\n",
       "    </tr>\n",
       "    <tr>\n",
       "      <th id=\"T_1c96e_level0_row6\" class=\"row_heading level0 row6\" >6</th>\n",
       "      <td id=\"T_1c96e_row6_col0\" class=\"data row6 col0\" >1.0000</td>\n",
       "      <td id=\"T_1c96e_row6_col1\" class=\"data row6 col1\" >1.0000</td>\n",
       "      <td id=\"T_1c96e_row6_col2\" class=\"data row6 col2\" >1.0000</td>\n",
       "      <td id=\"T_1c96e_row6_col3\" class=\"data row6 col3\" >1.0000</td>\n",
       "      <td id=\"T_1c96e_row6_col4\" class=\"data row6 col4\" >1.0000</td>\n",
       "      <td id=\"T_1c96e_row6_col5\" class=\"data row6 col5\" >1.0000</td>\n",
       "      <td id=\"T_1c96e_row6_col6\" class=\"data row6 col6\" >1.0000</td>\n",
       "    </tr>\n",
       "    <tr>\n",
       "      <th id=\"T_1c96e_level0_row7\" class=\"row_heading level0 row7\" >7</th>\n",
       "      <td id=\"T_1c96e_row7_col0\" class=\"data row7 col0\" >1.0000</td>\n",
       "      <td id=\"T_1c96e_row7_col1\" class=\"data row7 col1\" >1.0000</td>\n",
       "      <td id=\"T_1c96e_row7_col2\" class=\"data row7 col2\" >1.0000</td>\n",
       "      <td id=\"T_1c96e_row7_col3\" class=\"data row7 col3\" >1.0000</td>\n",
       "      <td id=\"T_1c96e_row7_col4\" class=\"data row7 col4\" >1.0000</td>\n",
       "      <td id=\"T_1c96e_row7_col5\" class=\"data row7 col5\" >1.0000</td>\n",
       "      <td id=\"T_1c96e_row7_col6\" class=\"data row7 col6\" >1.0000</td>\n",
       "    </tr>\n",
       "    <tr>\n",
       "      <th id=\"T_1c96e_level0_row8\" class=\"row_heading level0 row8\" >8</th>\n",
       "      <td id=\"T_1c96e_row8_col0\" class=\"data row8 col0\" >1.0000</td>\n",
       "      <td id=\"T_1c96e_row8_col1\" class=\"data row8 col1\" >1.0000</td>\n",
       "      <td id=\"T_1c96e_row8_col2\" class=\"data row8 col2\" >1.0000</td>\n",
       "      <td id=\"T_1c96e_row8_col3\" class=\"data row8 col3\" >1.0000</td>\n",
       "      <td id=\"T_1c96e_row8_col4\" class=\"data row8 col4\" >1.0000</td>\n",
       "      <td id=\"T_1c96e_row8_col5\" class=\"data row8 col5\" >1.0000</td>\n",
       "      <td id=\"T_1c96e_row8_col6\" class=\"data row8 col6\" >1.0000</td>\n",
       "    </tr>\n",
       "    <tr>\n",
       "      <th id=\"T_1c96e_level0_row9\" class=\"row_heading level0 row9\" >9</th>\n",
       "      <td id=\"T_1c96e_row9_col0\" class=\"data row9 col0\" >1.0000</td>\n",
       "      <td id=\"T_1c96e_row9_col1\" class=\"data row9 col1\" >1.0000</td>\n",
       "      <td id=\"T_1c96e_row9_col2\" class=\"data row9 col2\" >1.0000</td>\n",
       "      <td id=\"T_1c96e_row9_col3\" class=\"data row9 col3\" >1.0000</td>\n",
       "      <td id=\"T_1c96e_row9_col4\" class=\"data row9 col4\" >1.0000</td>\n",
       "      <td id=\"T_1c96e_row9_col5\" class=\"data row9 col5\" >1.0000</td>\n",
       "      <td id=\"T_1c96e_row9_col6\" class=\"data row9 col6\" >1.0000</td>\n",
       "    </tr>\n",
       "    <tr>\n",
       "      <th id=\"T_1c96e_level0_row10\" class=\"row_heading level0 row10\" >Mean</th>\n",
       "      <td id=\"T_1c96e_row10_col0\" class=\"data row10 col0\" >0.9467</td>\n",
       "      <td id=\"T_1c96e_row10_col1\" class=\"data row10 col1\" >1.0000</td>\n",
       "      <td id=\"T_1c96e_row10_col2\" class=\"data row10 col2\" >0.9500</td>\n",
       "      <td id=\"T_1c96e_row10_col3\" class=\"data row10 col3\" >0.9644</td>\n",
       "      <td id=\"T_1c96e_row10_col4\" class=\"data row10 col4\" >0.9431</td>\n",
       "      <td id=\"T_1c96e_row10_col5\" class=\"data row10 col5\" >0.9188</td>\n",
       "      <td id=\"T_1c96e_row10_col6\" class=\"data row10 col6\" >0.9302</td>\n",
       "    </tr>\n",
       "    <tr>\n",
       "      <th id=\"T_1c96e_level0_row11\" class=\"row_heading level0 row11\" >SD</th>\n",
       "      <td id=\"T_1c96e_row11_col0\" class=\"data row11 col0\" >0.0819</td>\n",
       "      <td id=\"T_1c96e_row11_col1\" class=\"data row11 col1\" >0.0000</td>\n",
       "      <td id=\"T_1c96e_row11_col2\" class=\"data row11 col2\" >0.0764</td>\n",
       "      <td id=\"T_1c96e_row11_col3\" class=\"data row11 col3\" >0.0546</td>\n",
       "      <td id=\"T_1c96e_row11_col4\" class=\"data row11 col4\" >0.0874</td>\n",
       "      <td id=\"T_1c96e_row11_col5\" class=\"data row11 col5\" >0.1252</td>\n",
       "      <td id=\"T_1c96e_row11_col6\" class=\"data row11 col6\" >0.1074</td>\n",
       "    </tr>\n",
       "  </tbody>\n",
       "</table>\n"
      ],
      "text/plain": [
       "<pandas.io.formats.style.Styler at 0x7f0f2bc63df0>"
      ]
     },
     "metadata": {},
     "output_type": "display_data"
    },
    {
     "name": "stdout",
     "output_type": "stream",
     "text": [
      "GaussianNB(priors=None, var_smoothing=1e-09)\n",
      "RandomForestClassifier(bootstrap=True, ccp_alpha=0.0, class_weight=None,\n",
      "                       criterion='gini', max_depth=None, max_features='auto',\n",
      "                       max_leaf_nodes=None, max_samples=None,\n",
      "                       min_impurity_decrease=0.0, min_impurity_split=None,\n",
      "                       min_samples_leaf=1, min_samples_split=2,\n",
      "                       min_weight_fraction_leaf=0.0, n_estimators=100,\n",
      "                       n_jobs=-1, oob_score=False, random_state=1337, verbose=0,\n",
      "                       warm_start=False)\n",
      "KNeighborsClassifier(algorithm='auto', leaf_size=30, metric='minkowski',\n",
      "                     metric_params=None, n_jobs=-1, n_neighbors=5, p=2,\n",
      "                     weights='uniform')\n"
     ]
    }
   ],
   "source": [
    "# find the best hyperparameters for each model\n",
    "tuned_models = [tune_model(model,search_library='scikit-learn', search_algorithm='random') for model in models]\n",
    "\n",
    "# display the model parameters\n",
    "for model in models:\n",
    "    print(model)"
   ]
  },
  {
   "cell_type": "code",
   "execution_count": 11,
   "id": "ba374333",
   "metadata": {},
   "outputs": [
    {
     "name": "stderr",
     "output_type": "stream",
     "text": [
      "findfont: Font family ['sans-serif'] not found. Falling back to DejaVu Sans.\n",
      "findfont: Generic family 'sans-serif' not found because none of the following families were found: Arial, Liberation Sans, Bitstream Vera Sans, sans-serif\n",
      "findfont: Font family ['sans-serif'] not found. Falling back to DejaVu Sans.\n",
      "findfont: Generic family 'sans-serif' not found because none of the following families were found: Arial, Liberation Sans, Bitstream Vera Sans, sans-serif\n",
      "findfont: Font family ['sans-serif'] not found. Falling back to DejaVu Sans.\n",
      "findfont: Generic family 'sans-serif' not found because none of the following families were found: Arial, Liberation Sans, Bitstream Vera Sans, sans-serif\n"
     ]
    },
    {
     "data": {
      "image/png": "[encoded data removed]",
      "text/plain": [
       "<Figure size 800x500 with 1 Axes>"
      ]
     },
     "metadata": {},
     "output_type": "display_data"
    }
   ],
   "source": [
    "# show the feature importance of the random forest model\n",
    "for model in models:\n",
    "    if type(model).__name__ == 'RandomForestClassifier':\n",
    "        plot_model(model, plot='feature')"
   ]
  },
  {
   "cell_type": "code",
   "execution_count": 12,
   "id": "f1840b15",
   "metadata": {},
   "outputs": [
    {
     "name": "stdout",
     "output_type": "stream",
     "text": [
      "--- <class 'sklearn.naive_bayes.GaussianNB'> ---\n",
      "              precision    recall  f1-score   support\n",
      "\n",
      "           0       1.00      1.00      1.00        25\n",
      "           1       0.89      1.00      0.94        25\n",
      "           2       1.00      0.88      0.94        25\n",
      "\n",
      "    accuracy                           0.96        75\n",
      "   macro avg       0.96      0.96      0.96        75\n",
      "weighted avg       0.96      0.96      0.96        75\n",
      "\n",
      "--- <class 'sklearn.ensemble._forest.RandomForestClassifier'> ---\n",
      "              precision    recall  f1-score   support\n",
      "\n",
      "           0       1.00      1.00      1.00        25\n",
      "           1       0.86      1.00      0.93        25\n",
      "           2       1.00      0.84      0.91        25\n",
      "\n",
      "    accuracy                           0.95        75\n",
      "   macro avg       0.95      0.95      0.95        75\n",
      "weighted avg       0.95      0.95      0.95        75\n",
      "\n",
      "--- <class 'sklearn.neighbors._classification.KNeighborsClassifier'> ---\n",
      "              precision    recall  f1-score   support\n",
      "\n",
      "           0       1.00      1.00      1.00        25\n",
      "           1       0.78      1.00      0.88        25\n",
      "           2       1.00      0.72      0.84        25\n",
      "\n",
      "    accuracy                           0.91        75\n",
      "   macro avg       0.93      0.91      0.90        75\n",
      "weighted avg       0.93      0.91      0.90        75\n",
      "\n"
     ]
    }
   ],
   "source": [
    "# evaluate each model on the test data\n",
    "for model in tuned_models:\n",
    "    print('--- %s ---' % type(model))\n",
    "\n",
    "    df_predicted = predict_model(estimator=model, data=df_test)\n",
    "    print(classification_report(y_true=df_predicted.target, y_pred=df_predicted.Label))"
   ]
  },
  {
   "cell_type": "markdown",
   "id": "74907908",
   "metadata": {},
   "source": [
    "### b) Modeling Functions\n",
    "\n",
    "This section contains re-usable functions to reduce the amount of repeated code."
   ]
  },
  {
   "cell_type": "code",
   "execution_count": 13,
   "id": "012c1910",
   "metadata": {},
   "outputs": [],
   "source": [
    "class Modeler:\n",
    "    \"\"\"\n",
    "    Modeler class to train and evaluate models.\n",
    "    \"\"\"\n",
    "    def __init__(self, model, X_train, y_train, X_test, y_test, feature_names):\n",
    "        \"\"\"\n",
    "        Initialize the modeler.\n",
    "\n",
    "        Parameters\n",
    "        ----------\n",
    "        model : sklearn model\n",
    "            The model to train and evaluate.\n",
    "        X_train : numpy array\n",
    "            The training data.\n",
    "        y_train : numpy array\n",
    "            The training labels.\n",
    "        X_test : numpy array\n",
    "            The test data.\n",
    "        y_test : numpy array\n",
    "            The test labels.\n",
    "        feature_names : list\n",
    "            The feature names.\n",
    "        \"\"\"\n",
    "        self.model = model\n",
    "        self.X_train = X_train\n",
    "        self.y_train = y_train\n",
    "        self.X_test = X_test\n",
    "        self.y_test = y_test\n",
    "        self.feature_names = feature_names\n",
    "\n",
    "    def train(self):\n",
    "        \"\"\"\n",
    "        Train the model\n",
    "        \"\"\"\n",
    "        self.model.fit(self.X_train, self.y_train)\n",
    "\n",
    "    def evaluate(self):\n",
    "        \"\"\"\n",
    "        Evaluate the model\n",
    "        \"\"\"\n",
    "        y_predicted = self.model.predict(self.X_test)\n",
    "        print(classification_report(y_true=self.y_test, y_pred=y_predicted))\n",
    "\n",
    "    def get_feature_importance(self) -> pd.DataFrame:\n",
    "        \"\"\"\n",
    "        Get the feature importance of the model.\n",
    "\n",
    "        Returns\n",
    "        -------\n",
    "        pd.DataFrame\n",
    "            The feature importance of the model.\n",
    "        \"\"\"\n",
    "        if type(self.model).__name__ == 'RandomForestClassifier':\n",
    "            return pd.DataFrame({\n",
    "                'feature': self.feature_names,\n",
    "                'importance': self.model.feature_importances_\n",
    "            })\n",
    "        else:\n",
    "            print('Model does not support feature importance.')\n",
    "\n",
    "    def get_evaluation(self) -> pd.DataFrame:\n",
    "        \"\"\"\n",
    "        Get the evaluation of the model on the test dataset.\n",
    "\n",
    "        Returns\n",
    "        -------\n",
    "        pd.DataFrame\n",
    "            The evaluation of the model on the test dataset.\n",
    "        \"\"\"\n",
    "        y_predicted = self.model.predict(self.X_test)\n",
    "        return pd.DataFrame([{\n",
    "            'model': type(self.model).__name__,\n",
    "            'precision': precision_score(y_true=self.y_test, y_pred=y_predicted, average='weighted'),\n",
    "            'recall': recall_score(y_true=self.y_test, y_pred=y_predicted, average='weighted'),\n",
    "            'f1-score': f1_score(y_true=self.y_test, y_pred=y_predicted, average='weighted'),\n",
    "            'accuracy': accuracy_score(y_true=self.y_test, y_pred=y_predicted)\n",
    "        }])\n",
    "\n",
    "    def get_accuracy(self) -> float:\n",
    "        \"\"\"\n",
    "        Get the accuracy of the trained model on the test dataset.\n",
    "\n",
    "        Returns\n",
    "        -------\n",
    "        float\n",
    "            The accuracy of the model.\n",
    "        \"\"\"\n",
    "        return accuracy_score(y_true=self.y_test, y_pred=self.model.predict(self.X_test))"
   ]
  },
  {
   "cell_type": "markdown",
   "id": "08d097b4",
   "metadata": {},
   "source": [
    "### 1.1 Naïve Bayes Classifier [2]\n",
    "Train a naïve bayes classifier in python. \n",
    "\n",
    "Use your code to fit the data given above. \n"
   ]
  },
  {
   "cell_type": "markdown",
   "id": "ef1464fc",
   "metadata": {},
   "source": [
    "#### 1.1.1 Train the Naive Bayes Classifier"
   ]
  },
  {
   "cell_type": "code",
   "execution_count": 14,
   "id": "64a4a918",
   "metadata": {},
   "outputs": [],
   "source": [
    "# create a new modeler\n",
    "modeler_nb = Modeler(\n",
    "    model=GaussianNB(), \n",
    "    X_train=X_train, \n",
    "    y_train=y_train, \n",
    "    X_test=X_test, \n",
    "    y_test=y_test,\n",
    "    feature_names=iris.feature_names)\n",
    "\n",
    "# train the model\n",
    "modeler_nb.train()"
   ]
  },
  {
   "cell_type": "code",
   "execution_count": 15,
   "metadata": {},
   "outputs": [
    {
     "name": "stdout",
     "output_type": "stream",
     "text": [
      "              precision    recall  f1-score   support\n",
      "\n",
      "           0       1.00      1.00      1.00        25\n",
      "           1       0.89      1.00      0.94        25\n",
      "           2       1.00      0.88      0.94        25\n",
      "\n",
      "    accuracy                           0.96        75\n",
      "   macro avg       0.96      0.96      0.96        75\n",
      "weighted avg       0.96      0.96      0.96        75\n",
      "\n"
     ]
    }
   ],
   "source": [
    "# evaluation the model on the test set\n",
    "modeler_nb.evaluate()"
   ]
  },
  {
   "cell_type": "markdown",
   "id": "12049a11",
   "metadata": {},
   "source": [
    "### 1.2 Random Forst Classifier [3]\n",
    "Train a random forest classifier in python. Use your code to fit the data given above. \n",
    "\n",
    "Evaluate feature performance of the model. \n",
    "\n",
    "Visualise the feature importance. \n"
   ]
  },
  {
   "cell_type": "markdown",
   "id": "bfe382e0",
   "metadata": {},
   "source": [
    "#### 1.2.1 Train a random forest classifier "
   ]
  },
  {
   "cell_type": "code",
   "execution_count": 16,
   "id": "87397a41",
   "metadata": {},
   "outputs": [],
   "source": [
    "# create a new modeler\n",
    "modeler_rf = Modeler(\n",
    "    model=RandomForestClassifier(\n",
    "        n_jobs=-1,\n",
    "        random_state=random_state\n",
    "    ), \n",
    "    X_train=X_train, \n",
    "    y_train=y_train, \n",
    "    X_test=X_test, \n",
    "    y_test=y_test,\n",
    "    feature_names=iris.feature_names)\n",
    "\n",
    "# train the model\n",
    "modeler_rf.train()"
   ]
  },
  {
   "cell_type": "code",
   "execution_count": 17,
   "id": "d948fb9e",
   "metadata": {},
   "outputs": [
    {
     "name": "stdout",
     "output_type": "stream",
     "text": [
      "              precision    recall  f1-score   support\n",
      "\n",
      "           0       1.00      1.00      1.00        25\n",
      "           1       0.89      1.00      0.94        25\n",
      "           2       1.00      0.88      0.94        25\n",
      "\n",
      "    accuracy                           0.96        75\n",
      "   macro avg       0.96      0.96      0.96        75\n",
      "weighted avg       0.96      0.96      0.96        75\n",
      "\n"
     ]
    }
   ],
   "source": [
    "# evaluation the model on the test set\n",
    "modeler_rf.evaluate()"
   ]
  },
  {
   "cell_type": "markdown",
   "id": "7721c5de",
   "metadata": {},
   "source": [
    "#### 1.2.2 Evaluate feature performance\n",
    "\n",
    "The following two features have the most predictive power in the model, and by removing other features the model should produce similar results."
   ]
  },
  {
   "cell_type": "code",
   "execution_count": 18,
   "id": "aa028a17",
   "metadata": {},
   "outputs": [
    {
     "data": {
      "text/html": [
       "<div>\n",
       "<style scoped>\n",
       "    .dataframe tbody tr th:only-of-type {\n",
       "        vertical-align: middle;\n",
       "    }\n",
       "\n",
       "    .dataframe tbody tr th {\n",
       "        vertical-align: top;\n",
       "    }\n",
       "\n",
       "    .dataframe thead th {\n",
       "        text-align: right;\n",
       "    }\n",
       "</style>\n",
       "<table border=\"1\" class=\"dataframe\">\n",
       "  <thead>\n",
       "    <tr style=\"text-align: right;\">\n",
       "      <th></th>\n",
       "      <th>feature</th>\n",
       "      <th>importance</th>\n",
       "    </tr>\n",
       "  </thead>\n",
       "  <tbody>\n",
       "    <tr>\n",
       "      <th>3</th>\n",
       "      <td>petal width (cm)</td>\n",
       "      <td>0.458948</td>\n",
       "    </tr>\n",
       "    <tr>\n",
       "      <th>2</th>\n",
       "      <td>petal length (cm)</td>\n",
       "      <td>0.403974</td>\n",
       "    </tr>\n",
       "    <tr>\n",
       "      <th>0</th>\n",
       "      <td>sepal length (cm)</td>\n",
       "      <td>0.094816</td>\n",
       "    </tr>\n",
       "    <tr>\n",
       "      <th>1</th>\n",
       "      <td>sepal width (cm)</td>\n",
       "      <td>0.042261</td>\n",
       "    </tr>\n",
       "  </tbody>\n",
       "</table>\n",
       "</div>"
      ],
      "text/plain": [
       "             feature  importance\n",
       "3   petal width (cm)    0.458948\n",
       "2  petal length (cm)    0.403974\n",
       "0  sepal length (cm)    0.094816\n",
       "1   sepal width (cm)    0.042261"
      ]
     },
     "execution_count": 18,
     "metadata": {},
     "output_type": "execute_result"
    }
   ],
   "source": [
    "# show the importance of each feature\n",
    "df_feature_importance = modeler_rf.get_feature_importance().sort_values(by='importance', ascending=False)\n",
    "df_feature_importance"
   ]
  },
  {
   "cell_type": "markdown",
   "id": "f77ecf32",
   "metadata": {},
   "source": [
    "In the code section below a new model is created using only the top two features. The results indicate that this mode have identical performance. \n",
    "\n",
    "❗️ However, in datasets as small as the iris dataset the test/train split and random seed can have a significant impact on the results, so we cannot conclude that model performance will always be exactly the same."
   ]
  },
  {
   "cell_type": "code",
   "execution_count": 19,
   "id": "9a9c70f0",
   "metadata": {},
   "outputs": [
    {
     "name": "stdout",
     "output_type": "stream",
     "text": [
      "              precision    recall  f1-score   support\n",
      "\n",
      "           0       1.00      1.00      1.00        25\n",
      "           1       0.89      1.00      0.94        25\n",
      "           2       1.00      0.88      0.94        25\n",
      "\n",
      "    accuracy                           0.96        75\n",
      "   macro avg       0.96      0.96      0.96        75\n",
      "weighted avg       0.96      0.96      0.96        75\n",
      "\n"
     ]
    }
   ],
   "source": [
    "# evalute model performance with only feature 2 and 3\n",
    "selected_features = [2, 3]\n",
    "\n",
    "# create a new modeler\n",
    "modeler_rf_sel = Modeler(\n",
    "    model=RandomForestClassifier(\n",
    "        n_jobs=-1,\n",
    "        random_state=random_state\n",
    "    ), \n",
    "    X_train=X_train[:, selected_features], \n",
    "    y_train=y_train, \n",
    "    X_test=X_test[:, selected_features], \n",
    "    y_test=y_test,\n",
    "    feature_names=None)\n",
    "\n",
    "# train the model\n",
    "modeler_rf_sel.train()\n",
    "\n",
    "# evaluation the model on the test set\n",
    "modeler_rf_sel.evaluate()"
   ]
  },
  {
   "cell_type": "markdown",
   "id": "aeffc70d",
   "metadata": {},
   "source": [
    "#### 1.2.3 Visualise the feature importance"
   ]
  },
  {
   "cell_type": "code",
   "execution_count": 20,
   "id": "4a1df26f",
   "metadata": {},
   "outputs": [
    {
     "data": {
      "text/plain": [
       "Text(0.5, 1.0, 'Figure 1. Feature Importance')"
      ]
     },
     "execution_count": 20,
     "metadata": {},
     "output_type": "execute_result"
    },
    {
     "data": {
      "image/png": "[encoded data removed]",
      "text/plain": [
       "<Figure size 576x396 with 1 Axes>"
      ]
     },
     "metadata": {},
     "output_type": "display_data"
    }
   ],
   "source": [
    "sns.barplot(\n",
    "    data=df_feature_importance,\n",
    "    x='feature',\n",
    "    y='importance').set_title('Figure 1. Feature Importance')"
   ]
  },
  {
   "cell_type": "markdown",
   "id": "be4cb46e",
   "metadata": {},
   "source": [
    "### 1.3 kNN Classifier [2]\n",
    "Train a kNN classifier in python. \n",
    "\n",
    "Use your code to fit the data given above. "
   ]
  },
  {
   "cell_type": "code",
   "execution_count": 21,
   "id": "ba99c00a",
   "metadata": {},
   "outputs": [],
   "source": [
    "# create a new modeler\n",
    "modeler_knn = Modeler(\n",
    "    model=KNeighborsClassifier(n_jobs=-1), \n",
    "    X_train=X_train, \n",
    "    y_train=y_train, \n",
    "    X_test=X_test, \n",
    "    y_test=y_test,\n",
    "    feature_names=iris.feature_names)\n",
    "\n",
    "# train the model\n",
    "modeler_knn.train()"
   ]
  },
  {
   "cell_type": "code",
   "execution_count": 22,
   "id": "f286edec",
   "metadata": {},
   "outputs": [
    {
     "name": "stdout",
     "output_type": "stream",
     "text": [
      "              precision    recall  f1-score   support\n",
      "\n",
      "           0       1.00      1.00      1.00        25\n",
      "           1       0.93      1.00      0.96        25\n",
      "           2       1.00      0.92      0.96        25\n",
      "\n",
      "    accuracy                           0.97        75\n",
      "   macro avg       0.98      0.97      0.97        75\n",
      "weighted avg       0.98      0.97      0.97        75\n",
      "\n"
     ]
    }
   ],
   "source": [
    "# evaluation the model on the test set\n",
    "modeler_knn.evaluate()"
   ]
  },
  {
   "cell_type": "markdown",
   "id": "877298a3",
   "metadata": {},
   "source": [
    "## 2 Code Report [6 marks total]\n",
    "In a markdown box, write a short report (no more than 500 words) that describes the workings of your code. "
   ]
  },
  {
   "cell_type": "code",
   "execution_count": 23,
   "id": "c54f65e4",
   "metadata": {},
   "outputs": [],
   "source": [
    "#Write your answer here"
   ]
  },
  {
   "cell_type": "markdown",
   "id": "cd03db53",
   "metadata": {},
   "source": [
    "## 3 Model Questions [14 marks total]\n",
    "Please answer the following questions relating to your classifiers. "
   ]
  },
  {
   "cell_type": "markdown",
   "id": "2c8eecce",
   "metadata": {},
   "source": [
    "### 3.1 Naïves Bayes Questions [4]\n",
    "Why do zero probabilities in our Naïve Bayes model cause problems? \n",
    "\n",
    "How can we avoid the problem of zero probabilities in our Naïve Bayes model? \n",
    "\n",
    "Please answer in the cell below."
   ]
  },
  {
   "cell_type": "code",
   "execution_count": 24,
   "id": "7984f198",
   "metadata": {},
   "outputs": [],
   "source": [
    "#Write your answer here\n",
    "\n",
    "# https://www.kdnuggets.com/2020/06/naive-bayes-algorithm-everything.html#:~:text=The%20zero%2Dfrequency%20problem,all%20the%20probabilities%20are%20multiplied.\n",
    "\n",
    "# Zero probabilities - https://www.datacamp.com/community/tutorials/naive-bayes-scikit-learn"
   ]
  },
  {
   "cell_type": "markdown",
   "id": "be89f91b",
   "metadata": {},
   "source": [
    "### 3.2 Random Forest Questions [6]\n",
    "Which feature is the most important from your random forest classifier? \n",
    "\n",
    "Can any features be removed to increase accuracy of the model, if so which features? \n",
    "\n",
    "Explain why it would be useful to remove these features. \n",
    "\n",
    "Please answer in the cell below."
   ]
  },
  {
   "cell_type": "code",
   "execution_count": 25,
   "id": "2a1fa8e9",
   "metadata": {},
   "outputs": [],
   "source": [
    "#Write your answer here"
   ]
  },
  {
   "cell_type": "code",
   "execution_count": 26,
   "id": "f9389508",
   "metadata": {},
   "outputs": [],
   "source": [
    "# create pairplot (https://www.kaggle.com/vinayshaw/iris-species-100-accuracy-using-naive-bayes) and (https://jakevdp.github.io/PythonDataScienceHandbook/05.02-introducing-scikit-learn.html)\n",
    "# and create a feature plot (https://mljar.com/blog/feature-importance-in-random-forest/#:~:text=Random%20Forest%20Built%2Din%20Feature%20Importance&text=It%20is%20a%20set%20of,sets%20with%20similars%20responses%20within.)"
   ]
  },
  {
   "cell_type": "markdown",
   "id": "f158f6e1",
   "metadata": {},
   "source": [
    "#### 3.2.1 Which feature is the most important from your random forest classifier?"
   ]
  },
  {
   "cell_type": "markdown",
   "id": "6d9d2549",
   "metadata": {},
   "source": [
    "#### 3.2.2 Can any features be removed to increase accuracy of the model, if so which features?"
   ]
  },
  {
   "cell_type": "markdown",
   "id": "2e6c686a",
   "metadata": {},
   "source": [
    "#### 3.3.3 Explain why it would be useful to remove these features."
   ]
  },
  {
   "cell_type": "markdown",
   "id": "dfb16099",
   "metadata": {},
   "source": [
    "### 3.3 kNN Questions [4]\n",
    "Do you think the kNN classifier is best suited to the iris dataset? \n",
    "\n",
    "What ideal qualities would the most appropriate dataset display?  \n",
    "\n",
    "Please answer in the cell below."
   ]
  },
  {
   "cell_type": "code",
   "execution_count": 27,
   "id": "ce393020",
   "metadata": {},
   "outputs": [],
   "source": [
    "#Write your answer here"
   ]
  },
  {
   "cell_type": "markdown",
   "id": "66dd40df",
   "metadata": {},
   "source": [
    "#### 3.4.1 Do you think the kNN classifier is best suited to the iris dataset?"
   ]
  },
  {
   "cell_type": "markdown",
   "id": "330fb31d",
   "metadata": {},
   "source": [
    "#### 3.4.2 What ideal qualities would the most appropriate dataset display?"
   ]
  },
  {
   "cell_type": "markdown",
   "id": "6518fe4c",
   "metadata": {},
   "source": [
    "## 4 Comparing Models [18 marks total]\n",
    "Please answer the following questions comparing your classifiers."
   ]
  },
  {
   "cell_type": "code",
   "execution_count": 28,
   "id": "383f0a35",
   "metadata": {},
   "outputs": [
    {
     "data": {
      "text/html": [
       "<div>\n",
       "<style scoped>\n",
       "    .dataframe tbody tr th:only-of-type {\n",
       "        vertical-align: middle;\n",
       "    }\n",
       "\n",
       "    .dataframe tbody tr th {\n",
       "        vertical-align: top;\n",
       "    }\n",
       "\n",
       "    .dataframe thead th {\n",
       "        text-align: right;\n",
       "    }\n",
       "</style>\n",
       "<table border=\"1\" class=\"dataframe\">\n",
       "  <thead>\n",
       "    <tr style=\"text-align: right;\">\n",
       "      <th></th>\n",
       "      <th>model</th>\n",
       "      <th>precision</th>\n",
       "      <th>recall</th>\n",
       "      <th>f1-score</th>\n",
       "      <th>accuracy</th>\n",
       "    </tr>\n",
       "  </thead>\n",
       "  <tbody>\n",
       "    <tr>\n",
       "      <th>0</th>\n",
       "      <td>GaussianNB</td>\n",
       "      <td>0.964286</td>\n",
       "      <td>0.960000</td>\n",
       "      <td>0.959855</td>\n",
       "      <td>0.960000</td>\n",
       "    </tr>\n",
       "    <tr>\n",
       "      <th>0</th>\n",
       "      <td>RandomForestClassifier</td>\n",
       "      <td>0.964286</td>\n",
       "      <td>0.960000</td>\n",
       "      <td>0.959855</td>\n",
       "      <td>0.960000</td>\n",
       "    </tr>\n",
       "    <tr>\n",
       "      <th>0</th>\n",
       "      <td>KNeighborsClassifier</td>\n",
       "      <td>0.975309</td>\n",
       "      <td>0.973333</td>\n",
       "      <td>0.973291</td>\n",
       "      <td>0.973333</td>\n",
       "    </tr>\n",
       "  </tbody>\n",
       "</table>\n",
       "</div>"
      ],
      "text/plain": [
       "                    model  precision    recall  f1-score  accuracy\n",
       "0              GaussianNB   0.964286  0.960000  0.959855  0.960000\n",
       "0  RandomForestClassifier   0.964286  0.960000  0.959855  0.960000\n",
       "0    KNeighborsClassifier   0.975309  0.973333  0.973291  0.973333"
      ]
     },
     "execution_count": 28,
     "metadata": {},
     "output_type": "execute_result"
    }
   ],
   "source": [
    "# display the model metrics for the test set\n",
    "pd.concat([\n",
    "    modeler_nb.get_evaluation(),\n",
    "    modeler_rf.get_evaluation(),\n",
    "    modeler_knn.get_evaluation()\n",
    "])"
   ]
  },
  {
   "cell_type": "markdown",
   "id": "af73fc05",
   "metadata": {},
   "source": [
    "### 4.1 Compare each model [3]\n",
    "What differences do you see between your Naïve Bayes classifier, your random forest classifier, and your kNN classifier? "
   ]
  },
  {
   "cell_type": "code",
   "execution_count": 29,
   "id": "b2ace70a",
   "metadata": {},
   "outputs": [],
   "source": [
    "#Write your answer here"
   ]
  },
  {
   "cell_type": "markdown",
   "id": "a947cf53",
   "metadata": {},
   "source": [
    "### 4.2 Accuracy [6]\n",
    "Can you explain why there are differences in accuracy between the three classifiers? "
   ]
  },
  {
   "cell_type": "code",
   "execution_count": 30,
   "id": "8667faac",
   "metadata": {},
   "outputs": [],
   "source": [
    "#Write your answer here\n",
    "\n"
   ]
  },
  {
   "cell_type": "markdown",
   "id": "b73bb1d0",
   "metadata": {},
   "source": [
    "| Algorithm     | Bias | Variance |\n",
    "| ------------- | ---- | -------- |\n",
    "| Naive Bayes   | High | Low      |\n",
    "| Random Forest | Low  | High     |\n",
    "| KNN           | Low  | High     |"
   ]
  },
  {
   "cell_type": "markdown",
   "id": "32846efc",
   "metadata": {},
   "source": [
    "https://machinelearningmastery.com/different-results-each-time-in-machine-learning/\n",
    "\n",
    "- Variance: How sensitive the algorithm is to the specific data used during training.\n",
    "- A more sensitive algorithm has a larger variance, which will result in more difference in the model, and in turn, the predictions made and evaluation of the model. Conversely, a less sensitive algorithm has a smaller variance and will result in less difference in the resulting model with different training data, and in turn, less difference in the resulting predictions and model evaluation.\n",
    " \n",
    " https://machinelearningmastery.com/gentle-introduction-to-the-bias-variance-trade-off-in-machine-learning/\n",
    "\n",
    "- Low Bias: Suggests less assumptions about the form of the target function.\n",
    "- High-Bias: Suggests more assumptions about the form of the target function.\n",
    "- Examples of low-bias machine learning algorithms include: Decision Trees, k-Nearest Neighbors and Support Vector Machines.\n",
    "- Examples of high-bias machine learning algorithms include: Linear Regression, Linear Discriminant Analysis and Logistic Regression.\n",
    "\n",
    " - Variance Error: Variance is the amount that the estimate of the target function will change if different training data was used.\n",
    " - The target function is estimated from the training data by a machine learning algorithm, so we should expect the algorithm to have some variance.\n",
    " - The k-nearest neighbors algorithm has low bias and high variance, but the trade-off can be changed by increasing the value of k which increases the number of neighbors that contribute t the prediction and in turn increases the bias of the model.\n",
    "\n",
    " https://www.analyticsvidhya.com/blog/2020/12/a-measure-of-bias-and-variance-an-experiment/\n",
    "\n",
    " - Random Forest - \tLow Bias, High Variance\n",
    "\n",
    " https://citeseerx.ist.psu.edu/viewdoc/download?doi=10.1.1.579.2693&rep=rep1&type=pdf\n",
    "\n",
    " - High bias and low variance algorithms result in models that are more robust to changes in the training data since they are not close representations of that data.\n",
    "- Naive Bayes is generally regarded as high bias and low variance because the assumptions it makes about the interactions among features have nothing to do with a particular training sample."
   ]
  },
  {
   "cell_type": "code",
   "execution_count": 31,
   "metadata": {},
   "outputs": [],
   "source": [
    "def get_random_influence(models:list, random_seeds:list, X, y, all_data:bool=False, stratify:bool=True) -> pd.DataFrame:\n",
    "    \"\"\"\n",
    "    Experiment with the influence of the random seed on model accuracy.\n",
    "\n",
    "    Parameters\n",
    "    ----------\n",
    "    models : list\n",
    "        The list of models to evaluate.\n",
    "    random_seeds : list\n",
    "        The random seeds.\n",
    "    X : numpy array\n",
    "        The training data.\n",
    "    y : numpy array\n",
    "        The training labels.\n",
    "    all_data : bool, optional\n",
    "        Whether to use all the data for training and testing.\n",
    "    stratify : bool, optional\n",
    "        Whether to stratify the data.\n",
    "\n",
    "    Returns\n",
    "    -------\n",
    "    pd.DataFrame\n",
    "        A dataframe containing the experiment results.\n",
    "    \"\"\"\n",
    "\n",
    "    df_random_influence = pd.DataFrame(columns=['model', 'seed', 'accuracy'])\n",
    "    for random_seed in random_seeds:\n",
    "        if all_data:\n",
    "            # use the complete dataset for training and testing\n",
    "            X_train = X\n",
    "            X_test = X\n",
    "            y_train = y\n",
    "            y_test = y\n",
    "        else:\n",
    "            # create the data split using the random seed\n",
    "            X_train, X_test, y_train, y_test = train_test_split(\n",
    "                X, y,\n",
    "                test_size=test_frac, \n",
    "                stratify=y if stratify else None,\n",
    "                random_state=random_seed)     \n",
    "\n",
    "        # evaluate each model\n",
    "        for model in models:\n",
    "            if hasattr(model, 'random_state'):\n",
    "                model.random_state = random_seed\n",
    "\n",
    "            modeler = Modeler(\n",
    "                model=model, \n",
    "                X_train=X_train, \n",
    "                X_test=X_test, \n",
    "                y_train=y_train, \n",
    "                y_test=y_test,\n",
    "                feature_names=None)\n",
    "\n",
    "            # train the model\n",
    "            modeler.train()\n",
    "\n",
    "            # get the model accuracy\n",
    "            accuracy = modeler.get_accuracy()\n",
    "\n",
    "            # add the model accuracy to the dataframe\n",
    "            df_random_influence = df_random_influence.append(\n",
    "                {\n",
    "                    'model': model.__class__.__name__,\n",
    "                    'seed': random_seed,\n",
    "                    'accuracy': accuracy\n",
    "                },\n",
    "                ignore_index=True\n",
    "            )\n",
    "\n",
    "    return df_random_influence"
   ]
  },
  {
   "cell_type": "code",
   "execution_count": 32,
   "id": "3381bc18",
   "metadata": {},
   "outputs": [],
   "source": [
    "# get a list of random seeds to use for the experiment\n",
    "random.seed(random_state)\n",
    "random_seeds = [random.randint(0,9000) for i in range(0,100)]\n",
    "\n",
    "#random_seeds = [random_state, 43, 80085, 3000, 2000, 4000]\n",
    "#random_seeds = list(range(0, 100))\n",
    "\n",
    "# get the accuracy of the models using different random seeds\n",
    "df_accuracy = get_random_influence(\n",
    "    models=[modeler_nb.model, modeler_rf.model, modeler_knn.model],\n",
    "    random_seeds=random_seeds,\n",
    "    X=X,\n",
    "    y=y,\n",
    "    stratify=False)"
   ]
  },
  {
   "cell_type": "code",
   "execution_count": 33,
   "id": "73c19c47",
   "metadata": {},
   "outputs": [
    {
     "data": {
      "text/plain": [
       "Text(0.5, 1.0, 'Figure 2. Model Accuracy')"
      ]
     },
     "execution_count": 33,
     "metadata": {},
     "output_type": "execute_result"
    },
    {
     "data": {
      "image/png": "[encoded data removed]",
      "text/plain": [
       "<Figure size 576x396 with 1 Axes>"
      ]
     },
     "metadata": {},
     "output_type": "display_data"
    }
   ],
   "source": [
    "# plot the results\n",
    "sns.barplot(\n",
    "    data=df_accuracy.head(10*3),\n",
    "    x='seed',\n",
    "    y='accuracy',\n",
    "    hue='model').set_title('Figure 2. Model Accuracy')"
   ]
  },
  {
   "cell_type": "markdown",
   "id": "e4113280",
   "metadata": {},
   "source": [
    "> ❌ Use the table below to look at the accuracy mean (bias) and standard deviation (variance) to help explain the the differences in accuracy. KNN has a low bias and high variance."
   ]
  },
  {
   "cell_type": "code",
   "execution_count": 34,
   "id": "d8071f72",
   "metadata": {},
   "outputs": [
    {
     "data": {
      "text/html": [
       "<div>\n",
       "<style scoped>\n",
       "    .dataframe tbody tr th:only-of-type {\n",
       "        vertical-align: middle;\n",
       "    }\n",
       "\n",
       "    .dataframe tbody tr th {\n",
       "        vertical-align: top;\n",
       "    }\n",
       "\n",
       "    .dataframe thead th {\n",
       "        text-align: right;\n",
       "    }\n",
       "</style>\n",
       "<table border=\"1\" class=\"dataframe\">\n",
       "  <thead>\n",
       "    <tr style=\"text-align: right;\">\n",
       "      <th></th>\n",
       "      <th>model</th>\n",
       "      <th>count</th>\n",
       "      <th>mean</th>\n",
       "      <th>std</th>\n",
       "      <th>min</th>\n",
       "      <th>25%</th>\n",
       "      <th>50%</th>\n",
       "      <th>75%</th>\n",
       "      <th>max</th>\n",
       "    </tr>\n",
       "  </thead>\n",
       "  <tbody>\n",
       "    <tr>\n",
       "      <th>0</th>\n",
       "      <td>GaussianNB</td>\n",
       "      <td>100.0</td>\n",
       "      <td>0.950667</td>\n",
       "      <td>0.019740</td>\n",
       "      <td>0.906667</td>\n",
       "      <td>0.933333</td>\n",
       "      <td>0.946667</td>\n",
       "      <td>0.960000</td>\n",
       "      <td>0.986667</td>\n",
       "    </tr>\n",
       "    <tr>\n",
       "      <th>1</th>\n",
       "      <td>KNeighborsClassifier</td>\n",
       "      <td>100.0</td>\n",
       "      <td>0.957733</td>\n",
       "      <td>0.022587</td>\n",
       "      <td>0.880000</td>\n",
       "      <td>0.946667</td>\n",
       "      <td>0.960000</td>\n",
       "      <td>0.973333</td>\n",
       "      <td>1.000000</td>\n",
       "    </tr>\n",
       "    <tr>\n",
       "      <th>2</th>\n",
       "      <td>RandomForestClassifier</td>\n",
       "      <td>100.0</td>\n",
       "      <td>0.945867</td>\n",
       "      <td>0.021509</td>\n",
       "      <td>0.866667</td>\n",
       "      <td>0.933333</td>\n",
       "      <td>0.946667</td>\n",
       "      <td>0.960000</td>\n",
       "      <td>0.986667</td>\n",
       "    </tr>\n",
       "  </tbody>\n",
       "</table>\n",
       "</div>"
      ],
      "text/plain": [
       "                    model  count      mean       std       min       25%  \\\n",
       "0              GaussianNB  100.0  0.950667  0.019740  0.906667  0.933333   \n",
       "1    KNeighborsClassifier  100.0  0.957733  0.022587  0.880000  0.946667   \n",
       "2  RandomForestClassifier  100.0  0.945867  0.021509  0.866667  0.933333   \n",
       "\n",
       "        50%       75%       max  \n",
       "0  0.946667  0.960000  0.986667  \n",
       "1  0.960000  0.973333  1.000000  \n",
       "2  0.946667  0.960000  0.986667  "
      ]
     },
     "execution_count": 34,
     "metadata": {},
     "output_type": "execute_result"
    }
   ],
   "source": [
    "df_accuracy.groupby('model').describe().droplevel(axis=1, level=0).reset_index()"
   ]
  },
  {
   "cell_type": "code",
   "execution_count": 35,
   "id": "6be5aef3",
   "metadata": {},
   "outputs": [
    {
     "data": {
      "text/plain": [
       "Text(0.5, 1.0, 'Figure 3. Model Accuracy - All Data')"
      ]
     },
     "execution_count": 35,
     "metadata": {},
     "output_type": "execute_result"
    },
    {
     "data": {
      "image/png": "[encoded data removed]",
      "text/plain": [
       "<Figure size 576x396 with 1 Axes>"
      ]
     },
     "metadata": {},
     "output_type": "display_data"
    }
   ],
   "source": [
    "# get the accuracy of the models using different random seeds\n",
    "df_accuracy = get_random_influence(\n",
    "    models=[modeler_nb.model, modeler_rf.model, modeler_knn.model],\n",
    "    random_seeds=list(range(1,4)),\n",
    "    X=X,\n",
    "    y=y,\n",
    "    all_data=True)\n",
    "\n",
    "# plot the results\n",
    "sns.barplot(\n",
    "    data=df_accuracy,\n",
    "    x='seed',\n",
    "    y='accuracy',\n",
    "    hue='model').set_title('Figure 3. Model Accuracy - All Data')"
   ]
  },
  {
   "cell_type": "markdown",
   "id": "314f44bc",
   "metadata": {},
   "source": [
    "### 4.3 Appropriate Use [9]\n",
    "When would it be appropriate to use each different classifier? \n",
    "\n",
    "Reference real-world situations and examples of specific data sets and explain why that classifier would be most appropriate for that use-case."
   ]
  },
  {
   "cell_type": "code",
   "execution_count": 36,
   "id": "9b5e465e",
   "metadata": {},
   "outputs": [],
   "source": [
    "#Write your answer here"
   ]
  },
  {
   "cell_type": "markdown",
   "id": "66bdfed1",
   "metadata": {},
   "source": [
    "KNN \n",
    "- https://www.ibm.com/docs/en/ias?topic=knn-usage\n",
    "- https://towardsdatascience.com/knn-algorithm-what-when-why-how-41405c16c36f\n",
    "\n",
    "Random Forest\n",
    "- https://jakevdp.github.io/PythonDataScienceHandbook/05.08-random-forests.html\n",
    "- https://www.analyticsvidhya.com/blog/2020/05/decision-tree-vs-random-forest-algorithm/#:~:text=Random%20Forest%20is%20suitable%20for,becomes%20more%20difficult%20to%20interpret.\n",
    "\n",
    "Naive Bayes\n",
    "- https://jakevdp.github.io/PythonDataScienceHandbook/05.05-naive-bayes.html\n",
    "- https://www.ibm.com/docs/en/ias?topic=bayes-background"
   ]
  }
 ],
 "metadata": {
  "kernelspec": {
   "display_name": "Python 3",
   "language": "python",
   "name": "python3"
  },
  "language_info": {
   "codemirror_mode": {
    "name": "ipython",
    "version": 3
   },
   "file_extension": ".py",
   "mimetype": "text/x-python",
   "name": "python",
   "nbconvert_exporter": "python",
   "pygments_lexer": "ipython3",
   "version": "3.8.12"
  }
 },
 "nbformat": 4,
 "nbformat_minor": 5
}
