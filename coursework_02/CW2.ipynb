{
 "cells": [
  {
   "cell_type": "markdown",
   "id": "c113f396",
   "metadata": {},
   "source": [
    "# Machine Learning Coursework 2\n",
    "\n",
    "For coursework 2 you will be asked to train and evalute several different classifiers: Naïve Bayes classifier, Random Forest classifier, and kNN classifier using the iris dataset. You will be asked to answer a series of questions relating to each individual model and questions comparing each model. \n",
    "\n",
    "#### You are free to use the sklearn library. \n",
    "\n",
    "\n",
    "Notes:\n",
    "- Remember to comment all of your code (see here for tips: https://stackabuse.com/commenting-python-code/). You can also make use of Jupyter Markdown, where appropriate, to improve the layout of your code and documentation.\n",
    "- Please add docstrings to all of your functions (so that users can get information on inputs/outputs and what each function does by typing SHIFT+TAB over the function name. For more detail on python docstrings, see here: https://numpydoc.readthedocs.io/en/latest/format.html)\n",
    "- When a question allows a free-form answer (e.g. what do you observe?), create a new markdown cell below and answer the question in the notebook. \n",
    "- Always save your notebook when you are done (this is not automatic)!\n",
    "- Upload your completed notebook using the VLE\n",
    "\n",
    "Plagiarism: please make sure that the material you submit has been created by you. Any sources you use for code should be properly referenced. Your code will be checked for plagiarism using appropriate software.\n",
    "\n",
    "### Marking \n",
    "\n",
    "The grades in this coursework are allocated approximately as follows:\n",
    "\n",
    "|                                                    | mark  |  \n",
    "|----------------------------------------------------|-------|\n",
    "| Code                                               | 7     |\n",
    "| Code Report/comments                               | 6     |\n",
    "| Model questions                                    | 14    |  \n",
    "| Model comparision questions                        | 18    |\n",
    "| Total available                                    |**45** |  \n",
    "\n",
    "##### Remember to save your notebook as “CW2.ipynb”. It is a good idea to re-run the whole thing before saving and submitting. \n",
    "\n",
    "\n",
    "\n",
    "\n",
    "\n",
    "\n",
    "\n",
    "\n"
   ]
  },
  {
   "cell_type": "markdown",
   "id": "8426c004",
   "metadata": {},
   "source": [
    "## Web References\n",
    "\n",
    "- [The Iris Dataset](https://scikit-learn.org/stable/auto_examples/datasets/plot_iris_dataset.html)\n",
    "- [sklearn.datasets.load_iris](https://scikit-learn.org/stable/modules/generated/sklearn.datasets.load_iris.html)\n",
    "- [Iris Species:100% Accuracy using Naive bayes](https://www.kaggle.com/vinayshaw/iris-species-100-accuracy-using-naive-bayes)\n",
    "- [Naive Bayes Classifier with Scikit](https://python-course.eu/machine-learning/naive-bayes-classifier-with-scikit.php)\n",
    "- [scikit-learn Classifiers on Iris Dataset](https://www.kaggle.com/chungyehwang/scikit-learn-classifiers-on-iris-dataset)"
   ]
  },
  {
   "cell_type": "markdown",
   "id": "f7a8d45f",
   "metadata": {},
   "source": [
    "## Import Libraries"
   ]
  },
  {
   "cell_type": "code",
   "execution_count": 1,
   "id": "1b356457",
   "metadata": {},
   "outputs": [],
   "source": [
    "import pandas as pd\n",
    "from sklearn.model_selection import train_test_split\n",
    "from sklearn.metrics import classification_report"
   ]
  },
  {
   "cell_type": "code",
   "execution_count": 2,
   "id": "69bbe83a",
   "metadata": {},
   "outputs": [],
   "source": [
    "random_state = 1337"
   ]
  },
  {
   "cell_type": "markdown",
   "id": "d83f1b29",
   "metadata": {},
   "source": [
    "## 1. Classifiers [7 marks total]\n",
    "Code and train your three classifiers in the cells below the corresponding header. You do not need to implement cross-validation in this coursework, simply fit the data. You are free to use sklearn and other packages where necessary.  \n",
    "\n"
   ]
  },
  {
   "cell_type": "code",
   "execution_count": 3,
   "id": "794c154e",
   "metadata": {},
   "outputs": [],
   "source": [
    "# import datasets\n",
    "from sklearn import datasets \n",
    "\n",
    "# load data\n",
    "iris = datasets.load_iris() # load data \n",
    "#print(iris.DESCR) # print dataset description"
   ]
  },
  {
   "cell_type": "code",
   "execution_count": 4,
   "id": "94a34750",
   "metadata": {},
   "outputs": [],
   "source": [
    "# get the predictors and target\n",
    "X = iris.data\n",
    "y = iris.target"
   ]
  },
  {
   "cell_type": "code",
   "execution_count": 5,
   "id": "57159958",
   "metadata": {},
   "outputs": [
    {
     "name": "stdout",
     "output_type": "stream",
     "text": [
      "There are 105 samples in the training set and 45 samples in the test set\n"
     ]
    }
   ],
   "source": [
    "# split the dataset into training and test data\n",
    "X_train, X_test, y_train, y_test = train_test_split(X, y, test_size=0.3, random_state=random_state)\n",
    "print('There are %d samples in the training set and %d samples in the test set' % (X_train.shape[0], X_test.shape[0]))"
   ]
  },
  {
   "cell_type": "markdown",
   "id": "31c2f282",
   "metadata": {},
   "source": [
    "### ℹ️ Baseline\n",
    "\n",
    "The Pycaret library is use in this section to establish a baseline for model performance."
   ]
  },
  {
   "cell_type": "code",
   "execution_count": 6,
   "id": "624f69e0",
   "metadata": {},
   "outputs": [],
   "source": [
    "# import the pycaret dependencies\n",
    "from pycaret.classification import *"
   ]
  },
  {
   "cell_type": "code",
   "execution_count": 7,
   "id": "944201eb",
   "metadata": {},
   "outputs": [],
   "source": [
    "# convert the training dataset to a dataframe\n",
    "df_train = pd.DataFrame(data=X_train, columns=iris.feature_names)\n",
    "df_train['target'] = pd.Series(y_train)\n",
    "\n",
    "# convert the test data to a dataframe\n",
    "df_test = pd.DataFrame(data=X_test, columns=iris.feature_names)\n",
    "df_test['target'] = pd.Series(y_test)"
   ]
  },
  {
   "cell_type": "code",
   "execution_count": 8,
   "id": "a4acb130",
   "metadata": {},
   "outputs": [],
   "source": [
    "# initialize the training environment and transformation pipeline\n",
    "classifier = setup(\n",
    "    data=df_train, \n",
    "    target='target',\n",
    "    session_id=random_state,\n",
    "    silent=True,\n",
    "    verbose=False)"
   ]
  },
  {
   "cell_type": "code",
   "execution_count": 9,
   "id": "c129a808",
   "metadata": {},
   "outputs": [
    {
     "data": {
      "text/html": [
       "<style type=\"text/css\">\n",
       "#T_52af0_ th {\n",
       "  text-align: left;\n",
       "}\n",
       "#T_52af0_row0_col0, #T_52af0_row1_col0, #T_52af0_row1_col1, #T_52af0_row1_col3, #T_52af0_row1_col4, #T_52af0_row1_col5, #T_52af0_row1_col6, #T_52af0_row1_col7, #T_52af0_row2_col0, #T_52af0_row2_col1, #T_52af0_row2_col2, #T_52af0_row2_col3, #T_52af0_row2_col4, #T_52af0_row2_col5, #T_52af0_row2_col6, #T_52af0_row2_col7 {\n",
       "  text-align: left;\n",
       "}\n",
       "#T_52af0_row0_col1, #T_52af0_row0_col2, #T_52af0_row0_col3, #T_52af0_row0_col4, #T_52af0_row0_col5, #T_52af0_row0_col6, #T_52af0_row0_col7, #T_52af0_row1_col2 {\n",
       "  text-align: left;\n",
       "  background-color: yellow;\n",
       "}\n",
       "#T_52af0_row0_col8, #T_52af0_row2_col8 {\n",
       "  text-align: left;\n",
       "  background-color: lightgrey;\n",
       "}\n",
       "#T_52af0_row1_col8 {\n",
       "  text-align: left;\n",
       "  background-color: yellow;\n",
       "  background-color: lightgrey;\n",
       "}\n",
       "</style>\n",
       "<table id=\"T_52af0_\">\n",
       "  <thead>\n",
       "    <tr>\n",
       "      <th class=\"blank level0\" >&nbsp;</th>\n",
       "      <th class=\"col_heading level0 col0\" >Model</th>\n",
       "      <th class=\"col_heading level0 col1\" >Accuracy</th>\n",
       "      <th class=\"col_heading level0 col2\" >AUC</th>\n",
       "      <th class=\"col_heading level0 col3\" >Recall</th>\n",
       "      <th class=\"col_heading level0 col4\" >Prec.</th>\n",
       "      <th class=\"col_heading level0 col5\" >F1</th>\n",
       "      <th class=\"col_heading level0 col6\" >Kappa</th>\n",
       "      <th class=\"col_heading level0 col7\" >MCC</th>\n",
       "      <th class=\"col_heading level0 col8\" >TT (Sec)</th>\n",
       "    </tr>\n",
       "  </thead>\n",
       "  <tbody>\n",
       "    <tr>\n",
       "      <th id=\"T_52af0_level0_row0\" class=\"row_heading level0 row0\" >rf</th>\n",
       "      <td id=\"T_52af0_row0_col0\" class=\"data row0 col0\" >Random Forest Classifier</td>\n",
       "      <td id=\"T_52af0_row0_col1\" class=\"data row0 col1\" >0.9857</td>\n",
       "      <td id=\"T_52af0_row0_col2\" class=\"data row0 col2\" >1.0000</td>\n",
       "      <td id=\"T_52af0_row0_col3\" class=\"data row0 col3\" >0.9833</td>\n",
       "      <td id=\"T_52af0_row0_col4\" class=\"data row0 col4\" >0.9905</td>\n",
       "      <td id=\"T_52af0_row0_col5\" class=\"data row0 col5\" >0.9848</td>\n",
       "      <td id=\"T_52af0_row0_col6\" class=\"data row0 col6\" >0.9781</td>\n",
       "      <td id=\"T_52af0_row0_col7\" class=\"data row0 col7\" >0.9807</td>\n",
       "      <td id=\"T_52af0_row0_col8\" class=\"data row0 col8\" >1.1090</td>\n",
       "    </tr>\n",
       "    <tr>\n",
       "      <th id=\"T_52af0_level0_row1\" class=\"row_heading level0 row1\" >knn</th>\n",
       "      <td id=\"T_52af0_row1_col0\" class=\"data row1 col0\" >K Neighbors Classifier</td>\n",
       "      <td id=\"T_52af0_row1_col1\" class=\"data row1 col1\" >0.9732</td>\n",
       "      <td id=\"T_52af0_row1_col2\" class=\"data row1 col2\" >1.0000</td>\n",
       "      <td id=\"T_52af0_row1_col3\" class=\"data row1 col3\" >0.9778</td>\n",
       "      <td id=\"T_52af0_row1_col4\" class=\"data row1 col4\" >0.9811</td>\n",
       "      <td id=\"T_52af0_row1_col5\" class=\"data row1 col5\" >0.9729</td>\n",
       "      <td id=\"T_52af0_row1_col6\" class=\"data row1 col6\" >0.9597</td>\n",
       "      <td id=\"T_52af0_row1_col7\" class=\"data row1 col7\" >0.9642</td>\n",
       "      <td id=\"T_52af0_row1_col8\" class=\"data row1 col8\" >0.0230</td>\n",
       "    </tr>\n",
       "    <tr>\n",
       "      <th id=\"T_52af0_level0_row2\" class=\"row_heading level0 row2\" >nb</th>\n",
       "      <td id=\"T_52af0_row2_col0\" class=\"data row2 col0\" >Naive Bayes</td>\n",
       "      <td id=\"T_52af0_row2_col1\" class=\"data row2 col1\" >0.9589</td>\n",
       "      <td id=\"T_52af0_row2_col2\" class=\"data row2 col2\" >0.9950</td>\n",
       "      <td id=\"T_52af0_row2_col3\" class=\"data row2 col3\" >0.9611</td>\n",
       "      <td id=\"T_52af0_row2_col4\" class=\"data row2 col4\" >0.9716</td>\n",
       "      <td id=\"T_52af0_row2_col5\" class=\"data row2 col5\" >0.9576</td>\n",
       "      <td id=\"T_52af0_row2_col6\" class=\"data row2 col6\" >0.9379</td>\n",
       "      <td id=\"T_52af0_row2_col7\" class=\"data row2 col7\" >0.9449</td>\n",
       "      <td id=\"T_52af0_row2_col8\" class=\"data row2 col8\" >3.5360</td>\n",
       "    </tr>\n",
       "  </tbody>\n",
       "</table>\n"
      ],
      "text/plain": [
       "<pandas.io.formats.style.Styler at 0x7f20545d5730>"
      ]
     },
     "metadata": {},
     "output_type": "display_data"
    }
   ],
   "source": [
    "# train a naive bayes, random forest, and knn classification model\n",
    "models = compare_models(include=['nb', 'rf', 'knn'], n_select=3)"
   ]
  },
  {
   "cell_type": "markdown",
   "id": "e14c7970",
   "metadata": {},
   "source": [
    "The following section optimizes each model by using a [random grid search](https://scikit-learn.org/stable/modules/generated/sklearn.model_selection.RandomizedSearchCV.html) from the scikit-learn library."
   ]
  },
  {
   "cell_type": "code",
   "execution_count": 10,
   "id": "4f1fbc24",
   "metadata": {},
   "outputs": [
    {
     "data": {
      "text/html": [
       "<style type=\"text/css\">\n",
       "#T_40911_row10_col0, #T_40911_row10_col1, #T_40911_row10_col2, #T_40911_row10_col3, #T_40911_row10_col4, #T_40911_row10_col5, #T_40911_row10_col6 {\n",
       "  background: yellow;\n",
       "}\n",
       "</style>\n",
       "<table id=\"T_40911_\">\n",
       "  <thead>\n",
       "    <tr>\n",
       "      <th class=\"blank level0\" >&nbsp;</th>\n",
       "      <th class=\"col_heading level0 col0\" >Accuracy</th>\n",
       "      <th class=\"col_heading level0 col1\" >AUC</th>\n",
       "      <th class=\"col_heading level0 col2\" >Recall</th>\n",
       "      <th class=\"col_heading level0 col3\" >Prec.</th>\n",
       "      <th class=\"col_heading level0 col4\" >F1</th>\n",
       "      <th class=\"col_heading level0 col5\" >Kappa</th>\n",
       "      <th class=\"col_heading level0 col6\" >MCC</th>\n",
       "    </tr>\n",
       "  </thead>\n",
       "  <tbody>\n",
       "    <tr>\n",
       "      <th id=\"T_40911_level0_row0\" class=\"row_heading level0 row0\" >0</th>\n",
       "      <td id=\"T_40911_row0_col0\" class=\"data row0 col0\" >1.0000</td>\n",
       "      <td id=\"T_40911_row0_col1\" class=\"data row0 col1\" >1.0000</td>\n",
       "      <td id=\"T_40911_row0_col2\" class=\"data row0 col2\" >1.0000</td>\n",
       "      <td id=\"T_40911_row0_col3\" class=\"data row0 col3\" >1.0000</td>\n",
       "      <td id=\"T_40911_row0_col4\" class=\"data row0 col4\" >1.0000</td>\n",
       "      <td id=\"T_40911_row0_col5\" class=\"data row0 col5\" >1.0000</td>\n",
       "      <td id=\"T_40911_row0_col6\" class=\"data row0 col6\" >1.0000</td>\n",
       "    </tr>\n",
       "    <tr>\n",
       "      <th id=\"T_40911_level0_row1\" class=\"row_heading level0 row1\" >1</th>\n",
       "      <td id=\"T_40911_row1_col0\" class=\"data row1 col0\" >1.0000</td>\n",
       "      <td id=\"T_40911_row1_col1\" class=\"data row1 col1\" >1.0000</td>\n",
       "      <td id=\"T_40911_row1_col2\" class=\"data row1 col2\" >1.0000</td>\n",
       "      <td id=\"T_40911_row1_col3\" class=\"data row1 col3\" >1.0000</td>\n",
       "      <td id=\"T_40911_row1_col4\" class=\"data row1 col4\" >1.0000</td>\n",
       "      <td id=\"T_40911_row1_col5\" class=\"data row1 col5\" >1.0000</td>\n",
       "      <td id=\"T_40911_row1_col6\" class=\"data row1 col6\" >1.0000</td>\n",
       "    </tr>\n",
       "    <tr>\n",
       "      <th id=\"T_40911_level0_row2\" class=\"row_heading level0 row2\" >2</th>\n",
       "      <td id=\"T_40911_row2_col0\" class=\"data row2 col0\" >1.0000</td>\n",
       "      <td id=\"T_40911_row2_col1\" class=\"data row2 col1\" >1.0000</td>\n",
       "      <td id=\"T_40911_row2_col2\" class=\"data row2 col2\" >1.0000</td>\n",
       "      <td id=\"T_40911_row2_col3\" class=\"data row2 col3\" >1.0000</td>\n",
       "      <td id=\"T_40911_row2_col4\" class=\"data row2 col4\" >1.0000</td>\n",
       "      <td id=\"T_40911_row2_col5\" class=\"data row2 col5\" >1.0000</td>\n",
       "      <td id=\"T_40911_row2_col6\" class=\"data row2 col6\" >1.0000</td>\n",
       "    </tr>\n",
       "    <tr>\n",
       "      <th id=\"T_40911_level0_row3\" class=\"row_heading level0 row3\" >3</th>\n",
       "      <td id=\"T_40911_row3_col0\" class=\"data row3 col0\" >0.8571</td>\n",
       "      <td id=\"T_40911_row3_col1\" class=\"data row3 col1\" >1.0000</td>\n",
       "      <td id=\"T_40911_row3_col2\" class=\"data row3 col2\" >0.8889</td>\n",
       "      <td id=\"T_40911_row3_col3\" class=\"data row3 col3\" >0.9048</td>\n",
       "      <td id=\"T_40911_row3_col4\" class=\"data row3 col4\" >0.8571</td>\n",
       "      <td id=\"T_40911_row3_col5\" class=\"data row3 col5\" >0.7879</td>\n",
       "      <td id=\"T_40911_row3_col6\" class=\"data row3 col6\" >0.8125</td>\n",
       "    </tr>\n",
       "    <tr>\n",
       "      <th id=\"T_40911_level0_row4\" class=\"row_heading level0 row4\" >4</th>\n",
       "      <td id=\"T_40911_row4_col0\" class=\"data row4 col0\" >1.0000</td>\n",
       "      <td id=\"T_40911_row4_col1\" class=\"data row4 col1\" >1.0000</td>\n",
       "      <td id=\"T_40911_row4_col2\" class=\"data row4 col2\" >1.0000</td>\n",
       "      <td id=\"T_40911_row4_col3\" class=\"data row4 col3\" >1.0000</td>\n",
       "      <td id=\"T_40911_row4_col4\" class=\"data row4 col4\" >1.0000</td>\n",
       "      <td id=\"T_40911_row4_col5\" class=\"data row4 col5\" >1.0000</td>\n",
       "      <td id=\"T_40911_row4_col6\" class=\"data row4 col6\" >1.0000</td>\n",
       "    </tr>\n",
       "    <tr>\n",
       "      <th id=\"T_40911_level0_row5\" class=\"row_heading level0 row5\" >5</th>\n",
       "      <td id=\"T_40911_row5_col0\" class=\"data row5 col0\" >1.0000</td>\n",
       "      <td id=\"T_40911_row5_col1\" class=\"data row5 col1\" >1.0000</td>\n",
       "      <td id=\"T_40911_row5_col2\" class=\"data row5 col2\" >1.0000</td>\n",
       "      <td id=\"T_40911_row5_col3\" class=\"data row5 col3\" >1.0000</td>\n",
       "      <td id=\"T_40911_row5_col4\" class=\"data row5 col4\" >1.0000</td>\n",
       "      <td id=\"T_40911_row5_col5\" class=\"data row5 col5\" >1.0000</td>\n",
       "      <td id=\"T_40911_row5_col6\" class=\"data row5 col6\" >1.0000</td>\n",
       "    </tr>\n",
       "    <tr>\n",
       "      <th id=\"T_40911_level0_row6\" class=\"row_heading level0 row6\" >6</th>\n",
       "      <td id=\"T_40911_row6_col0\" class=\"data row6 col0\" >1.0000</td>\n",
       "      <td id=\"T_40911_row6_col1\" class=\"data row6 col1\" >1.0000</td>\n",
       "      <td id=\"T_40911_row6_col2\" class=\"data row6 col2\" >1.0000</td>\n",
       "      <td id=\"T_40911_row6_col3\" class=\"data row6 col3\" >1.0000</td>\n",
       "      <td id=\"T_40911_row6_col4\" class=\"data row6 col4\" >1.0000</td>\n",
       "      <td id=\"T_40911_row6_col5\" class=\"data row6 col5\" >1.0000</td>\n",
       "      <td id=\"T_40911_row6_col6\" class=\"data row6 col6\" >1.0000</td>\n",
       "    </tr>\n",
       "    <tr>\n",
       "      <th id=\"T_40911_level0_row7\" class=\"row_heading level0 row7\" >7</th>\n",
       "      <td id=\"T_40911_row7_col0\" class=\"data row7 col0\" >0.8571</td>\n",
       "      <td id=\"T_40911_row7_col1\" class=\"data row7 col1\" >1.0000</td>\n",
       "      <td id=\"T_40911_row7_col2\" class=\"data row7 col2\" >0.8333</td>\n",
       "      <td id=\"T_40911_row7_col3\" class=\"data row7 col3\" >0.9048</td>\n",
       "      <td id=\"T_40911_row7_col4\" class=\"data row7 col4\" >0.8476</td>\n",
       "      <td id=\"T_40911_row7_col5\" class=\"data row7 col5\" >0.7812</td>\n",
       "      <td id=\"T_40911_row7_col6\" class=\"data row7 col6\" >0.8069</td>\n",
       "    </tr>\n",
       "    <tr>\n",
       "      <th id=\"T_40911_level0_row8\" class=\"row_heading level0 row8\" >8</th>\n",
       "      <td id=\"T_40911_row8_col0\" class=\"data row8 col0\" >1.0000</td>\n",
       "      <td id=\"T_40911_row8_col1\" class=\"data row8 col1\" >1.0000</td>\n",
       "      <td id=\"T_40911_row8_col2\" class=\"data row8 col2\" >1.0000</td>\n",
       "      <td id=\"T_40911_row8_col3\" class=\"data row8 col3\" >1.0000</td>\n",
       "      <td id=\"T_40911_row8_col4\" class=\"data row8 col4\" >1.0000</td>\n",
       "      <td id=\"T_40911_row8_col5\" class=\"data row8 col5\" >1.0000</td>\n",
       "      <td id=\"T_40911_row8_col6\" class=\"data row8 col6\" >1.0000</td>\n",
       "    </tr>\n",
       "    <tr>\n",
       "      <th id=\"T_40911_level0_row9\" class=\"row_heading level0 row9\" >9</th>\n",
       "      <td id=\"T_40911_row9_col0\" class=\"data row9 col0\" >1.0000</td>\n",
       "      <td id=\"T_40911_row9_col1\" class=\"data row9 col1\" >1.0000</td>\n",
       "      <td id=\"T_40911_row9_col2\" class=\"data row9 col2\" >1.0000</td>\n",
       "      <td id=\"T_40911_row9_col3\" class=\"data row9 col3\" >1.0000</td>\n",
       "      <td id=\"T_40911_row9_col4\" class=\"data row9 col4\" >1.0000</td>\n",
       "      <td id=\"T_40911_row9_col5\" class=\"data row9 col5\" >1.0000</td>\n",
       "      <td id=\"T_40911_row9_col6\" class=\"data row9 col6\" >1.0000</td>\n",
       "    </tr>\n",
       "    <tr>\n",
       "      <th id=\"T_40911_level0_row10\" class=\"row_heading level0 row10\" >Mean</th>\n",
       "      <td id=\"T_40911_row10_col0\" class=\"data row10 col0\" >0.9714</td>\n",
       "      <td id=\"T_40911_row10_col1\" class=\"data row10 col1\" >1.0000</td>\n",
       "      <td id=\"T_40911_row10_col2\" class=\"data row10 col2\" >0.9722</td>\n",
       "      <td id=\"T_40911_row10_col3\" class=\"data row10 col3\" >0.9810</td>\n",
       "      <td id=\"T_40911_row10_col4\" class=\"data row10 col4\" >0.9705</td>\n",
       "      <td id=\"T_40911_row10_col5\" class=\"data row10 col5\" >0.9569</td>\n",
       "      <td id=\"T_40911_row10_col6\" class=\"data row10 col6\" >0.9619</td>\n",
       "    </tr>\n",
       "    <tr>\n",
       "      <th id=\"T_40911_level0_row11\" class=\"row_heading level0 row11\" >SD</th>\n",
       "      <td id=\"T_40911_row11_col0\" class=\"data row11 col0\" >0.0571</td>\n",
       "      <td id=\"T_40911_row11_col1\" class=\"data row11 col1\" >0.0000</td>\n",
       "      <td id=\"T_40911_row11_col2\" class=\"data row11 col2\" >0.0569</td>\n",
       "      <td id=\"T_40911_row11_col3\" class=\"data row11 col3\" >0.0381</td>\n",
       "      <td id=\"T_40911_row11_col4\" class=\"data row11 col4\" >0.0591</td>\n",
       "      <td id=\"T_40911_row11_col5\" class=\"data row11 col5\" >0.0862</td>\n",
       "      <td id=\"T_40911_row11_col6\" class=\"data row11 col6\" >0.0761</td>\n",
       "    </tr>\n",
       "  </tbody>\n",
       "</table>\n"
      ],
      "text/plain": [
       "<pandas.io.formats.style.Styler at 0x7f2053d6e730>"
      ]
     },
     "metadata": {},
     "output_type": "display_data"
    },
    {
     "name": "stdout",
     "output_type": "stream",
     "text": [
      "RandomForestClassifier(bootstrap=True, ccp_alpha=0.0, class_weight=None,\n",
      "                       criterion='gini', max_depth=None, max_features='auto',\n",
      "                       max_leaf_nodes=None, max_samples=None,\n",
      "                       min_impurity_decrease=0.0, min_impurity_split=None,\n",
      "                       min_samples_leaf=1, min_samples_split=2,\n",
      "                       min_weight_fraction_leaf=0.0, n_estimators=100,\n",
      "                       n_jobs=-1, oob_score=False, random_state=1337, verbose=0,\n",
      "                       warm_start=False)\n",
      "KNeighborsClassifier(algorithm='auto', leaf_size=30, metric='minkowski',\n",
      "                     metric_params=None, n_jobs=-1, n_neighbors=5, p=2,\n",
      "                     weights='uniform')\n",
      "GaussianNB(priors=None, var_smoothing=1e-09)\n"
     ]
    }
   ],
   "source": [
    "# find the best hyperparameters for each model\n",
    "tuned_models = [tune_model(model,search_library='scikit-learn', search_algorithm='random') for model in models]\n",
    "\n",
    "# display the model parameters\n",
    "for model in models:\n",
    "    print(model)"
   ]
  },
  {
   "cell_type": "code",
   "execution_count": 11,
   "id": "ba374333",
   "metadata": {},
   "outputs": [
    {
     "name": "stderr",
     "output_type": "stream",
     "text": [
      "findfont: Font family ['sans-serif'] not found. Falling back to DejaVu Sans.\n",
      "findfont: Generic family 'sans-serif' not found because none of the following families were found: Arial, Liberation Sans, Bitstream Vera Sans, sans-serif\n",
      "findfont: Font family ['sans-serif'] not found. Falling back to DejaVu Sans.\n",
      "findfont: Generic family 'sans-serif' not found because none of the following families were found: Arial, Liberation Sans, Bitstream Vera Sans, sans-serif\n",
      "findfont: Font family ['sans-serif'] not found. Falling back to DejaVu Sans.\n",
      "findfont: Generic family 'sans-serif' not found because none of the following families were found: Arial, Liberation Sans, Bitstream Vera Sans, sans-serif\n"
     ]
    },
    {
     "data": {
      "image/png": "[encoded data removed]",
      "text/plain": [
       "<Figure size 800x500 with 1 Axes>"
      ]
     },
     "metadata": {},
     "output_type": "display_data"
    }
   ],
   "source": [
    "# show the feature importance of the random forest model\n",
    "plot_model(tuned_models[0], plot='feature')"
   ]
  },
  {
   "cell_type": "code",
   "execution_count": 12,
   "id": "f1840b15",
   "metadata": {},
   "outputs": [
    {
     "name": "stdout",
     "output_type": "stream",
     "text": [
      "--- <class 'sklearn.ensemble._forest.RandomForestClassifier'> ---\n",
      "              precision    recall  f1-score   support\n",
      "\n",
      "           0       1.00      1.00      1.00        20\n",
      "           1       0.90      1.00      0.95         9\n",
      "           2       1.00      0.94      0.97        16\n",
      "\n",
      "    accuracy                           0.98        45\n",
      "   macro avg       0.97      0.98      0.97        45\n",
      "weighted avg       0.98      0.98      0.98        45\n",
      "\n",
      "--- <class 'sklearn.neighbors._classification.KNeighborsClassifier'> ---\n",
      "              precision    recall  f1-score   support\n",
      "\n",
      "           0       1.00      1.00      1.00        20\n",
      "           1       0.90      1.00      0.95         9\n",
      "           2       1.00      0.94      0.97        16\n",
      "\n",
      "    accuracy                           0.98        45\n",
      "   macro avg       0.97      0.98      0.97        45\n",
      "weighted avg       0.98      0.98      0.98        45\n",
      "\n",
      "--- <class 'sklearn.naive_bayes.GaussianNB'> ---\n",
      "              precision    recall  f1-score   support\n",
      "\n",
      "           0       1.00      1.00      1.00        20\n",
      "           1       0.90      1.00      0.95         9\n",
      "           2       1.00      0.94      0.97        16\n",
      "\n",
      "    accuracy                           0.98        45\n",
      "   macro avg       0.97      0.98      0.97        45\n",
      "weighted avg       0.98      0.98      0.98        45\n",
      "\n"
     ]
    }
   ],
   "source": [
    "# evaluate each model on the test data\n",
    "for model in tuned_models:\n",
    "    print('--- %s ---' % type(model))\n",
    "\n",
    "    df_predicted = predict_model(estimator=model, data=df_test)\n",
    "    print(classification_report(y_true=df_predicted.target, y_pred=df_predicted.Label))"
   ]
  },
  {
   "cell_type": "markdown",
   "id": "08d097b4",
   "metadata": {},
   "source": [
    "### 1.1 Naïve Bayes Classifier [2]\n",
    "Train a naïve bayes classifier in python. \n",
    "\n",
    "Use your code to fit the data given above. \n"
   ]
  },
  {
   "cell_type": "code",
   "execution_count": 13,
   "id": "3902ea88",
   "metadata": {},
   "outputs": [],
   "source": [
    "#Write your code here\n",
    "\n",
    "# train naive bayes classifier on iris dataset\n"
   ]
  },
  {
   "cell_type": "markdown",
   "id": "12049a11",
   "metadata": {},
   "source": [
    "### 1.2 Random Forst Classifier [3]\n",
    "Train a random forest classifier in python. Use your code to fit the data given above. \n",
    "\n",
    "Evaluate feature performance of the model. \n",
    "\n",
    "Visualise the feature importance. \n"
   ]
  },
  {
   "cell_type": "code",
   "execution_count": 14,
   "id": "855200cf",
   "metadata": {},
   "outputs": [],
   "source": [
    "#Write your code here"
   ]
  },
  {
   "cell_type": "markdown",
   "id": "be4cb46e",
   "metadata": {},
   "source": [
    "### 1.3 kNN Classifier [2]\n",
    "Train a kNN classifier in python. \n",
    "\n",
    "Use your code to fit the data given above. "
   ]
  },
  {
   "cell_type": "code",
   "execution_count": 15,
   "id": "ba99c00a",
   "metadata": {},
   "outputs": [],
   "source": [
    "#Write your code here"
   ]
  },
  {
   "cell_type": "markdown",
   "id": "877298a3",
   "metadata": {},
   "source": [
    "## 2 Code Report [6 marks total]\n",
    "In a markdown box, write a short report (no more than 500 words) that describes the workings of your code. "
   ]
  },
  {
   "cell_type": "code",
   "execution_count": 16,
   "id": "c54f65e4",
   "metadata": {},
   "outputs": [],
   "source": [
    "#Write your answer here"
   ]
  },
  {
   "cell_type": "markdown",
   "id": "cd03db53",
   "metadata": {},
   "source": [
    "## 3 Model Questions [14 marks total]\n",
    "Please answer the following questions relating to your classifiers. "
   ]
  },
  {
   "cell_type": "markdown",
   "id": "2c8eecce",
   "metadata": {},
   "source": [
    "### 3.1 Naïves Bayes Questions [4]\n",
    "Why do zero probabilities in our Naïve Bayes model cause problems? \n",
    "\n",
    "How can we avoid the problem of zero probabilities in our Naïve Bayes model? \n",
    "\n",
    "Please answer in the cell below."
   ]
  },
  {
   "cell_type": "code",
   "execution_count": 17,
   "id": "7984f198",
   "metadata": {},
   "outputs": [],
   "source": [
    "#Write your answer here\n",
    "\n",
    "# https://www.kdnuggets.com/2020/06/naive-bayes-algorithm-everything.html#:~:text=The%20zero%2Dfrequency%20problem,all%20the%20probabilities%20are%20multiplied."
   ]
  },
  {
   "cell_type": "markdown",
   "id": "be89f91b",
   "metadata": {},
   "source": [
    "### 3.2 Random Forest Questions [6]\n",
    "Which feature is the most important from your random forest classifier? \n",
    "\n",
    "Can any features be removed to increase accuracy of the model, if so which features? \n",
    "\n",
    "Explain why it would be useful to remove these features. \n",
    "\n",
    "Please answer in the cell below."
   ]
  },
  {
   "cell_type": "code",
   "execution_count": 18,
   "id": "2a1fa8e9",
   "metadata": {},
   "outputs": [],
   "source": [
    "#Write your answer here"
   ]
  },
  {
   "cell_type": "markdown",
   "id": "dfb16099",
   "metadata": {},
   "source": [
    "### 3.3 kNN Questions [4]\n",
    "Do you think the kNN classifier is best suited to the iris dataset? \n",
    "\n",
    "What ideal qualities would the most appropriate dataset display?  \n",
    "\n",
    "Please answer in the cell below."
   ]
  },
  {
   "cell_type": "code",
   "execution_count": 19,
   "id": "ce393020",
   "metadata": {},
   "outputs": [],
   "source": [
    "#Write your answer here"
   ]
  },
  {
   "cell_type": "markdown",
   "id": "6518fe4c",
   "metadata": {},
   "source": [
    "## 4 Comparing Models [18 marks total]\n",
    "Please answer the following questions comparing your classifiers."
   ]
  },
  {
   "cell_type": "markdown",
   "id": "af73fc05",
   "metadata": {},
   "source": [
    "### 4.1 Compare each model [3]\n",
    "What differences do you see between your Naïve Bayes classifier, your random forest classifier, and your kNN classifier? "
   ]
  },
  {
   "cell_type": "code",
   "execution_count": 20,
   "id": "b2ace70a",
   "metadata": {},
   "outputs": [],
   "source": [
    "#Write your answer here"
   ]
  },
  {
   "cell_type": "markdown",
   "id": "a947cf53",
   "metadata": {},
   "source": [
    "### 4.2 Accuracy [6]\n",
    "Can you explain why there are differences in accuracy between the three classifiers? "
   ]
  },
  {
   "cell_type": "code",
   "execution_count": 21,
   "id": "8667faac",
   "metadata": {},
   "outputs": [],
   "source": [
    "#Write your answer here"
   ]
  },
  {
   "cell_type": "markdown",
   "id": "314f44bc",
   "metadata": {},
   "source": [
    "### 4.3 Appropriate Use [9]\n",
    "When would it be appropriate to use each different classifier? \n",
    "\n",
    "Reference real-world situations and examples of specific data sets and explain why that classifier would be most appropriate for that use-case."
   ]
  },
  {
   "cell_type": "code",
   "execution_count": 22,
   "id": "9b5e465e",
   "metadata": {},
   "outputs": [],
   "source": [
    "#Write your answer here"
   ]
  }
 ],
 "metadata": {
  "kernelspec": {
   "display_name": "Python 3",
   "language": "python",
   "name": "python3"
  },
  "language_info": {
   "codemirror_mode": {
    "name": "ipython",
    "version": 3
   },
   "file_extension": ".py",
   "mimetype": "text/x-python",
   "name": "python",
   "nbconvert_exporter": "python",
   "pygments_lexer": "ipython3",
   "version": "3.8.12"
  }
 },
 "nbformat": 4,
 "nbformat_minor": 5
}
