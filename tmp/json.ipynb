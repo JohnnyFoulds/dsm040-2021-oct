{
 "cells": [
  {
   "cell_type": "markdown",
   "metadata": {},
   "source": [
    "# JSON Display"
   ]
  },
  {
   "cell_type": "markdown",
   "metadata": {},
   "source": [
    "## Import Librares"
   ]
  },
  {
   "cell_type": "code",
   "execution_count": 3,
   "metadata": {},
   "outputs": [],
   "source": [
    "import json\n",
    "from pprint import pprint"
   ]
  },
  {
   "cell_type": "code",
   "execution_count": 16,
   "metadata": {},
   "outputs": [],
   "source": [
    "json_string = \"\"\"{\n",
    "    \"name\": \"Johannes\",\n",
    "    \"surname\": \"Foulds\",\n",
    "    \"roles\": [\n",
    "        {\n",
    "            \"title\": \"Machine Learning Engineer\",\n",
    "            \"year\": 2022\n",
    "        },\n",
    "        {\n",
    "            \"title\": \"Senior Process Engineer\",\n",
    "            \"year\": 2020\n",
    "        },\n",
    "        {\n",
    "            \"title\": \"Specialist Developer\",\n",
    "            \"year\": 2010\n",
    "        }\n",
    "    ]\n",
    "}\"\"\""
   ]
  },
  {
   "cell_type": "code",
   "execution_count": 21,
   "metadata": {},
   "outputs": [
    {
     "name": "stdout",
     "output_type": "stream",
     "text": [
      "{'name': 'Johannes', 'surname': 'Foulds', 'roles': [{'title': 'Machine Learning Engineer', 'year': 2022}, {'title': 'Senior Process Engineer', 'year': 2020}, {'title': 'Specialist Developer', 'year': 2010}]}\n"
     ]
    }
   ],
   "source": [
    "json_object = json.loads(json_string)\n",
    "print(json_object)"
   ]
  },
  {
   "cell_type": "code",
   "execution_count": 25,
   "metadata": {},
   "outputs": [
    {
     "name": "stdout",
     "output_type": "stream",
     "text": [
      "{\n",
      "\t\"name\": \"Johannes\",\n",
      "\t\"surname\": \"Foulds\",\n",
      "\t\"roles\": [\n",
      "\t\t{\n",
      "\t\t\t\"title\": \"Machine Learning Engineer\",\n",
      "\t\t\t\"year\": 2022\n",
      "\t\t},\n",
      "\t\t{\n",
      "\t\t\t\"title\": \"Senior Process Engineer\",\n",
      "\t\t\t\"year\": 2020\n",
      "\t\t},\n",
      "\t\t{\n",
      "\t\t\t\"title\": \"Specialist Developer\",\n",
      "\t\t\t\"year\": 2010\n",
      "\t\t}\n",
      "\t]\n",
      "}\n"
     ]
    }
   ],
   "source": [
    "print(json.dumps(json_object, indent = '\\t'))"
   ]
  }
 ],
 "metadata": {
  "interpreter": {
   "hash": "949777d72b0d2535278d3dc13498b2535136f6dfe0678499012e853ee9abcab1"
  },
  "kernelspec": {
   "display_name": "Python 3.8.12 64-bit",
   "name": "python3"
  },
  "language_info": {
   "codemirror_mode": {
    "name": "ipython",
    "version": 3
   },
   "file_extension": ".py",
   "mimetype": "text/x-python",
   "name": "python",
   "nbconvert_exporter": "python",
   "pygments_lexer": "ipython3",
   "version": "3.8.12"
  },
  "orig_nbformat": 4
 },
 "nbformat": 4,
 "nbformat_minor": 2
}
